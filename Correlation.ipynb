{
  "nbformat": 4,
  "nbformat_minor": 0,
  "metadata": {
    "colab": {
      "name": "Correlation.ipynb",
      "provenance": [],
      "collapsed_sections": []
    },
    "kernelspec": {
      "name": "python3",
      "display_name": "Python 3"
    },
    "language_info": {
      "name": "python"
    }
  },
  "cells": [
    {
      "cell_type": "code",
      "metadata": {
        "id": "zOFdIGdSkxLq"
      },
      "source": [
        "import pandas as pd\n",
        "import numpy as np\n",
        "import matplotlib.pyplot as plt\n",
        "%matplotlib inline"
      ],
      "execution_count": 1,
      "outputs": []
    },
    {
      "cell_type": "code",
      "metadata": {
        "colab": {
          "resources": {
            "http://localhost:8080/nbextensions/google.colab/files.js": {
              "data": "Ly8gQ29weXJpZ2h0IDIwMTcgR29vZ2xlIExMQwovLwovLyBMaWNlbnNlZCB1bmRlciB0aGUgQXBhY2hlIExpY2Vuc2UsIFZlcnNpb24gMi4wICh0aGUgIkxpY2Vuc2UiKTsKLy8geW91IG1heSBub3QgdXNlIHRoaXMgZmlsZSBleGNlcHQgaW4gY29tcGxpYW5jZSB3aXRoIHRoZSBMaWNlbnNlLgovLyBZb3UgbWF5IG9idGFpbiBhIGNvcHkgb2YgdGhlIExpY2Vuc2UgYXQKLy8KLy8gICAgICBodHRwOi8vd3d3LmFwYWNoZS5vcmcvbGljZW5zZXMvTElDRU5TRS0yLjAKLy8KLy8gVW5sZXNzIHJlcXVpcmVkIGJ5IGFwcGxpY2FibGUgbGF3IG9yIGFncmVlZCB0byBpbiB3cml0aW5nLCBzb2Z0d2FyZQovLyBkaXN0cmlidXRlZCB1bmRlciB0aGUgTGljZW5zZSBpcyBkaXN0cmlidXRlZCBvbiBhbiAiQVMgSVMiIEJBU0lTLAovLyBXSVRIT1VUIFdBUlJBTlRJRVMgT1IgQ09ORElUSU9OUyBPRiBBTlkgS0lORCwgZWl0aGVyIGV4cHJlc3Mgb3IgaW1wbGllZC4KLy8gU2VlIHRoZSBMaWNlbnNlIGZvciB0aGUgc3BlY2lmaWMgbGFuZ3VhZ2UgZ292ZXJuaW5nIHBlcm1pc3Npb25zIGFuZAovLyBsaW1pdGF0aW9ucyB1bmRlciB0aGUgTGljZW5zZS4KCi8qKgogKiBAZmlsZW92ZXJ2aWV3IEhlbHBlcnMgZm9yIGdvb2dsZS5jb2xhYiBQeXRob24gbW9kdWxlLgogKi8KKGZ1bmN0aW9uKHNjb3BlKSB7CmZ1bmN0aW9uIHNwYW4odGV4dCwgc3R5bGVBdHRyaWJ1dGVzID0ge30pIHsKICBjb25zdCBlbGVtZW50ID0gZG9jdW1lbnQuY3JlYXRlRWxlbWVudCgnc3BhbicpOwogIGVsZW1lbnQudGV4dENvbnRlbnQgPSB0ZXh0OwogIGZvciAoY29uc3Qga2V5IG9mIE9iamVjdC5rZXlzKHN0eWxlQXR0cmlidXRlcykpIHsKICAgIGVsZW1lbnQuc3R5bGVba2V5XSA9IHN0eWxlQXR0cmlidXRlc1trZXldOwogIH0KICByZXR1cm4gZWxlbWVudDsKfQoKLy8gTWF4IG51bWJlciBvZiBieXRlcyB3aGljaCB3aWxsIGJlIHVwbG9hZGVkIGF0IGEgdGltZS4KY29uc3QgTUFYX1BBWUxPQURfU0laRSA9IDEwMCAqIDEwMjQ7CgpmdW5jdGlvbiBfdXBsb2FkRmlsZXMoaW5wdXRJZCwgb3V0cHV0SWQpIHsKICBjb25zdCBzdGVwcyA9IHVwbG9hZEZpbGVzU3RlcChpbnB1dElkLCBvdXRwdXRJZCk7CiAgY29uc3Qgb3V0cHV0RWxlbWVudCA9IGRvY3VtZW50LmdldEVsZW1lbnRCeUlkKG91dHB1dElkKTsKICAvLyBDYWNoZSBzdGVwcyBvbiB0aGUgb3V0cHV0RWxlbWVudCB0byBtYWtlIGl0IGF2YWlsYWJsZSBmb3IgdGhlIG5leHQgY2FsbAogIC8vIHRvIHVwbG9hZEZpbGVzQ29udGludWUgZnJvbSBQeXRob24uCiAgb3V0cHV0RWxlbWVudC5zdGVwcyA9IHN0ZXBzOwoKICByZXR1cm4gX3VwbG9hZEZpbGVzQ29udGludWUob3V0cHV0SWQpOwp9CgovLyBUaGlzIGlzIHJvdWdobHkgYW4gYXN5bmMgZ2VuZXJhdG9yIChub3Qgc3VwcG9ydGVkIGluIHRoZSBicm93c2VyIHlldCksCi8vIHdoZXJlIHRoZXJlIGFyZSBtdWx0aXBsZSBhc3luY2hyb25vdXMgc3RlcHMgYW5kIHRoZSBQeXRob24gc2lkZSBpcyBnb2luZwovLyB0byBwb2xsIGZvciBjb21wbGV0aW9uIG9mIGVhY2ggc3RlcC4KLy8gVGhpcyB1c2VzIGEgUHJvbWlzZSB0byBibG9jayB0aGUgcHl0aG9uIHNpZGUgb24gY29tcGxldGlvbiBvZiBlYWNoIHN0ZXAsCi8vIHRoZW4gcGFzc2VzIHRoZSByZXN1bHQgb2YgdGhlIHByZXZpb3VzIHN0ZXAgYXMgdGhlIGlucHV0IHRvIHRoZSBuZXh0IHN0ZXAuCmZ1bmN0aW9uIF91cGxvYWRGaWxlc0NvbnRpbnVlKG91dHB1dElkKSB7CiAgY29uc3Qgb3V0cHV0RWxlbWVudCA9IGRvY3VtZW50LmdldEVsZW1lbnRCeUlkKG91dHB1dElkKTsKICBjb25zdCBzdGVwcyA9IG91dHB1dEVsZW1lbnQuc3RlcHM7CgogIGNvbnN0IG5leHQgPSBzdGVwcy5uZXh0KG91dHB1dEVsZW1lbnQubGFzdFByb21pc2VWYWx1ZSk7CiAgcmV0dXJuIFByb21pc2UucmVzb2x2ZShuZXh0LnZhbHVlLnByb21pc2UpLnRoZW4oKHZhbHVlKSA9PiB7CiAgICAvLyBDYWNoZSB0aGUgbGFzdCBwcm9taXNlIHZhbHVlIHRvIG1ha2UgaXQgYXZhaWxhYmxlIHRvIHRoZSBuZXh0CiAgICAvLyBzdGVwIG9mIHRoZSBnZW5lcmF0b3IuCiAgICBvdXRwdXRFbGVtZW50Lmxhc3RQcm9taXNlVmFsdWUgPSB2YWx1ZTsKICAgIHJldHVybiBuZXh0LnZhbHVlLnJlc3BvbnNlOwogIH0pOwp9CgovKioKICogR2VuZXJhdG9yIGZ1bmN0aW9uIHdoaWNoIGlzIGNhbGxlZCBiZXR3ZWVuIGVhY2ggYXN5bmMgc3RlcCBvZiB0aGUgdXBsb2FkCiAqIHByb2Nlc3MuCiAqIEBwYXJhbSB7c3RyaW5nfSBpbnB1dElkIEVsZW1lbnQgSUQgb2YgdGhlIGlucHV0IGZpbGUgcGlja2VyIGVsZW1lbnQuCiAqIEBwYXJhbSB7c3RyaW5nfSBvdXRwdXRJZCBFbGVtZW50IElEIG9mIHRoZSBvdXRwdXQgZGlzcGxheS4KICogQHJldHVybiB7IUl0ZXJhYmxlPCFPYmplY3Q+fSBJdGVyYWJsZSBvZiBuZXh0IHN0ZXBzLgogKi8KZnVuY3Rpb24qIHVwbG9hZEZpbGVzU3RlcChpbnB1dElkLCBvdXRwdXRJZCkgewogIGNvbnN0IGlucHV0RWxlbWVudCA9IGRvY3VtZW50LmdldEVsZW1lbnRCeUlkKGlucHV0SWQpOwogIGlucHV0RWxlbWVudC5kaXNhYmxlZCA9IGZhbHNlOwoKICBjb25zdCBvdXRwdXRFbGVtZW50ID0gZG9jdW1lbnQuZ2V0RWxlbWVudEJ5SWQob3V0cHV0SWQpOwogIG91dHB1dEVsZW1lbnQuaW5uZXJIVE1MID0gJyc7CgogIGNvbnN0IHBpY2tlZFByb21pc2UgPSBuZXcgUHJvbWlzZSgocmVzb2x2ZSkgPT4gewogICAgaW5wdXRFbGVtZW50LmFkZEV2ZW50TGlzdGVuZXIoJ2NoYW5nZScsIChlKSA9PiB7CiAgICAgIHJlc29sdmUoZS50YXJnZXQuZmlsZXMpOwogICAgfSk7CiAgfSk7CgogIGNvbnN0IGNhbmNlbCA9IGRvY3VtZW50LmNyZWF0ZUVsZW1lbnQoJ2J1dHRvbicpOwogIGlucHV0RWxlbWVudC5wYXJlbnRFbGVtZW50LmFwcGVuZENoaWxkKGNhbmNlbCk7CiAgY2FuY2VsLnRleHRDb250ZW50ID0gJ0NhbmNlbCB1cGxvYWQnOwogIGNvbnN0IGNhbmNlbFByb21pc2UgPSBuZXcgUHJvbWlzZSgocmVzb2x2ZSkgPT4gewogICAgY2FuY2VsLm9uY2xpY2sgPSAoKSA9PiB7CiAgICAgIHJlc29sdmUobnVsbCk7CiAgICB9OwogIH0pOwoKICAvLyBXYWl0IGZvciB0aGUgdXNlciB0byBwaWNrIHRoZSBmaWxlcy4KICBjb25zdCBmaWxlcyA9IHlpZWxkIHsKICAgIHByb21pc2U6IFByb21pc2UucmFjZShbcGlja2VkUHJvbWlzZSwgY2FuY2VsUHJvbWlzZV0pLAogICAgcmVzcG9uc2U6IHsKICAgICAgYWN0aW9uOiAnc3RhcnRpbmcnLAogICAgfQogIH07CgogIGNhbmNlbC5yZW1vdmUoKTsKCiAgLy8gRGlzYWJsZSB0aGUgaW5wdXQgZWxlbWVudCBzaW5jZSBmdXJ0aGVyIHBpY2tzIGFyZSBub3QgYWxsb3dlZC4KICBpbnB1dEVsZW1lbnQuZGlzYWJsZWQgPSB0cnVlOwoKICBpZiAoIWZpbGVzKSB7CiAgICByZXR1cm4gewogICAgICByZXNwb25zZTogewogICAgICAgIGFjdGlvbjogJ2NvbXBsZXRlJywKICAgICAgfQogICAgfTsKICB9CgogIGZvciAoY29uc3QgZmlsZSBvZiBmaWxlcykgewogICAgY29uc3QgbGkgPSBkb2N1bWVudC5jcmVhdGVFbGVtZW50KCdsaScpOwogICAgbGkuYXBwZW5kKHNwYW4oZmlsZS5uYW1lLCB7Zm9udFdlaWdodDogJ2JvbGQnfSkpOwogICAgbGkuYXBwZW5kKHNwYW4oCiAgICAgICAgYCgke2ZpbGUudHlwZSB8fCAnbi9hJ30pIC0gJHtmaWxlLnNpemV9IGJ5dGVzLCBgICsKICAgICAgICBgbGFzdCBtb2RpZmllZDogJHsKICAgICAgICAgICAgZmlsZS5sYXN0TW9kaWZpZWREYXRlID8gZmlsZS5sYXN0TW9kaWZpZWREYXRlLnRvTG9jYWxlRGF0ZVN0cmluZygpIDoKICAgICAgICAgICAgICAgICAgICAgICAgICAgICAgICAgICAgJ24vYSd9IC0gYCkpOwogICAgY29uc3QgcGVyY2VudCA9IHNwYW4oJzAlIGRvbmUnKTsKICAgIGxpLmFwcGVuZENoaWxkKHBlcmNlbnQpOwoKICAgIG91dHB1dEVsZW1lbnQuYXBwZW5kQ2hpbGQobGkpOwoKICAgIGNvbnN0IGZpbGVEYXRhUHJvbWlzZSA9IG5ldyBQcm9taXNlKChyZXNvbHZlKSA9PiB7CiAgICAgIGNvbnN0IHJlYWRlciA9IG5ldyBGaWxlUmVhZGVyKCk7CiAgICAgIHJlYWRlci5vbmxvYWQgPSAoZSkgPT4gewogICAgICAgIHJlc29sdmUoZS50YXJnZXQucmVzdWx0KTsKICAgICAgfTsKICAgICAgcmVhZGVyLnJlYWRBc0FycmF5QnVmZmVyKGZpbGUpOwogICAgfSk7CiAgICAvLyBXYWl0IGZvciB0aGUgZGF0YSB0byBiZSByZWFkeS4KICAgIGxldCBmaWxlRGF0YSA9IHlpZWxkIHsKICAgICAgcHJvbWlzZTogZmlsZURhdGFQcm9taXNlLAogICAgICByZXNwb25zZTogewogICAgICAgIGFjdGlvbjogJ2NvbnRpbnVlJywKICAgICAgfQogICAgfTsKCiAgICAvLyBVc2UgYSBjaHVua2VkIHNlbmRpbmcgdG8gYXZvaWQgbWVzc2FnZSBzaXplIGxpbWl0cy4gU2VlIGIvNjIxMTU2NjAuCiAgICBsZXQgcG9zaXRpb24gPSAwOwogICAgZG8gewogICAgICBjb25zdCBsZW5ndGggPSBNYXRoLm1pbihmaWxlRGF0YS5ieXRlTGVuZ3RoIC0gcG9zaXRpb24sIE1BWF9QQVlMT0FEX1NJWkUpOwogICAgICBjb25zdCBjaHVuayA9IG5ldyBVaW50OEFycmF5KGZpbGVEYXRhLCBwb3NpdGlvbiwgbGVuZ3RoKTsKICAgICAgcG9zaXRpb24gKz0gbGVuZ3RoOwoKICAgICAgY29uc3QgYmFzZTY0ID0gYnRvYShTdHJpbmcuZnJvbUNoYXJDb2RlLmFwcGx5KG51bGwsIGNodW5rKSk7CiAgICAgIHlpZWxkIHsKICAgICAgICByZXNwb25zZTogewogICAgICAgICAgYWN0aW9uOiAnYXBwZW5kJywKICAgICAgICAgIGZpbGU6IGZpbGUubmFtZSwKICAgICAgICAgIGRhdGE6IGJhc2U2NCwKICAgICAgICB9LAogICAgICB9OwoKICAgICAgbGV0IHBlcmNlbnREb25lID0gZmlsZURhdGEuYnl0ZUxlbmd0aCA9PT0gMCA/CiAgICAgICAgICAxMDAgOgogICAgICAgICAgTWF0aC5yb3VuZCgocG9zaXRpb24gLyBmaWxlRGF0YS5ieXRlTGVuZ3RoKSAqIDEwMCk7CiAgICAgIHBlcmNlbnQudGV4dENvbnRlbnQgPSBgJHtwZXJjZW50RG9uZX0lIGRvbmVgOwoKICAgIH0gd2hpbGUgKHBvc2l0aW9uIDwgZmlsZURhdGEuYnl0ZUxlbmd0aCk7CiAgfQoKICAvLyBBbGwgZG9uZS4KICB5aWVsZCB7CiAgICByZXNwb25zZTogewogICAgICBhY3Rpb246ICdjb21wbGV0ZScsCiAgICB9CiAgfTsKfQoKc2NvcGUuZ29vZ2xlID0gc2NvcGUuZ29vZ2xlIHx8IHt9OwpzY29wZS5nb29nbGUuY29sYWIgPSBzY29wZS5nb29nbGUuY29sYWIgfHwge307CnNjb3BlLmdvb2dsZS5jb2xhYi5fZmlsZXMgPSB7CiAgX3VwbG9hZEZpbGVzLAogIF91cGxvYWRGaWxlc0NvbnRpbnVlLAp9Owp9KShzZWxmKTsK",
              "ok": true,
              "headers": [
                [
                  "content-type",
                  "application/javascript"
                ]
              ],
              "status": 200,
              "status_text": ""
            }
          },
          "base_uri": "https://localhost:8080/",
          "height": 72
        },
        "id": "Amkrn58glrn-",
        "outputId": "29d37d0a-e33c-45f7-eb5b-78bf881e2cb1"
      },
      "source": [
        "from google.colab import files\n",
        "uploaded = files.upload()"
      ],
      "execution_count": 2,
      "outputs": [
        {
          "output_type": "display_data",
          "data": {
            "text/html": [
              "\n",
              "     <input type=\"file\" id=\"files-f40548db-01f6-44b1-bfd2-e0425eace93d\" name=\"files[]\" multiple disabled\n",
              "        style=\"border:none\" />\n",
              "     <output id=\"result-f40548db-01f6-44b1-bfd2-e0425eace93d\">\n",
              "      Upload widget is only available when the cell has been executed in the\n",
              "      current browser session. Please rerun this cell to enable.\n",
              "      </output>\n",
              "      <script src=\"/nbextensions/google.colab/files.js\"></script> "
            ],
            "text/plain": [
              "<IPython.core.display.HTML object>"
            ]
          },
          "metadata": {
            "tags": []
          }
        },
        {
          "output_type": "stream",
          "text": [
            "Saving 120km-wo-null.csv to 120km-wo-null.csv\n"
          ],
          "name": "stdout"
        }
      ]
    },
    {
      "cell_type": "code",
      "metadata": {
        "colab": {
          "base_uri": "https://localhost:8080/"
        },
        "id": "J88YcdFUl323",
        "outputId": "d482d754-95a2-4114-ce51-2b34eb3d2a62"
      },
      "source": [
        "import pandas as pd\n",
        "import io\n",
        "  \n",
        "df = pd.read_csv(io.BytesIO(uploaded['120km-wo-null.csv']))\n",
        "print(df)"
      ],
      "execution_count": 4,
      "outputs": [
        {
          "output_type": "stream",
          "text": [
            "      YEAR  MO  DY     y    x1    x2  ...   x13   x14   x15   x16   x17   x18\n",
            "0     2015   1   1  0.81  0.77  0.92  ...  1.05  1.88  1.18  0.82  1.14  0.76\n",
            "1     2015   1   2  1.71  1.33  1.69  ...  1.20  2.03  1.82  1.11  1.14  1.32\n",
            "2     2015   1   3  1.38  0.82  1.02  ...  0.84  1.09  2.59  1.14  1.31  1.40\n",
            "3     2015   1   4  1.78  2.44  1.44  ...  2.41  2.30  3.43  3.07  2.58  3.13\n",
            "4     2015   1   5  4.09  3.77  4.05  ...  3.56  4.26  4.53  3.30  3.89  4.38\n",
            "...    ...  ..  ..   ...   ...   ...  ...   ...   ...   ...   ...   ...   ...\n",
            "1801  2019  12  27  3.95  2.65  3.82  ...  2.67  4.18  4.46  2.74  3.01  4.33\n",
            "1802  2019  12  28  3.50  1.72  3.38  ...  1.71  4.13  4.55  1.67  1.64  4.36\n",
            "1803  2019  12  29  3.06  2.64  3.23  ...  2.96  4.10  4.20  2.34  3.03  3.90\n",
            "1804  2019  12  30  3.41  0.88  3.25  ...  1.67  4.09  4.43  2.20  1.61  4.15\n",
            "1805  2019  12  31  3.50  3.02  3.61  ...  3.01  4.09  2.81  2.97  1.46  1.51\n",
            "\n",
            "[1806 rows x 22 columns]\n"
          ],
          "name": "stdout"
        }
      ]
    },
    {
      "cell_type": "code",
      "metadata": {
        "colab": {
          "base_uri": "https://localhost:8080/"
        },
        "id": "diMzza70mLQI",
        "outputId": "a168797c-98dc-4ec4-bfc9-64bf5b4ef9e6"
      },
      "source": [
        "len(df)"
      ],
      "execution_count": 5,
      "outputs": [
        {
          "output_type": "execute_result",
          "data": {
            "text/plain": [
              "1806"
            ]
          },
          "metadata": {
            "tags": []
          },
          "execution_count": 5
        }
      ]
    },
    {
      "cell_type": "markdown",
      "metadata": {
        "id": "jrF-RA_RmPlL"
      },
      "source": [
        "# Data preprocessing-remove null"
      ]
    },
    {
      "cell_type": "code",
      "metadata": {
        "colab": {
          "base_uri": "https://localhost:8080/"
        },
        "id": "hcxIDlM2mS8R",
        "outputId": "4c44c0a6-f22b-4a43-c636-6cbfb07d323a"
      },
      "source": [
        "df.isnull().sum().sum()"
      ],
      "execution_count": 6,
      "outputs": [
        {
          "output_type": "execute_result",
          "data": {
            "text/plain": [
              "0"
            ]
          },
          "metadata": {
            "tags": []
          },
          "execution_count": 6
        }
      ]
    },
    {
      "cell_type": "code",
      "metadata": {
        "id": "A70ClmuimX2D"
      },
      "source": [
        "df = df.dropna()"
      ],
      "execution_count": 7,
      "outputs": []
    },
    {
      "cell_type": "code",
      "metadata": {
        "colab": {
          "base_uri": "https://localhost:8080/"
        },
        "id": "KBwua6LKmbpS",
        "outputId": "8836a251-21a4-4317-eaf9-8932a00893cc"
      },
      "source": [
        "df.isnull().sum().sum()"
      ],
      "execution_count": 8,
      "outputs": [
        {
          "output_type": "execute_result",
          "data": {
            "text/plain": [
              "0"
            ]
          },
          "metadata": {
            "tags": []
          },
          "execution_count": 8
        }
      ]
    },
    {
      "cell_type": "code",
      "metadata": {
        "id": "AnSQbT9NmfPs"
      },
      "source": [
        "y = df['y'].values"
      ],
      "execution_count": 9,
      "outputs": []
    },
    {
      "cell_type": "code",
      "metadata": {
        "colab": {
          "base_uri": "https://localhost:8080/",
          "height": 300
        },
        "id": "K-rNh_mlmkhn",
        "outputId": "11a800dd-6b2f-4b43-f91f-7ce45474f7f4"
      },
      "source": [
        "plt.plot(y)\n",
        "plt.xlabel('Time in Days', fontsize=14)\n",
        "plt.ylabel('Solar Irradiance in W-h/m$^2$', fontsize=14)"
      ],
      "execution_count": 10,
      "outputs": [
        {
          "output_type": "execute_result",
          "data": {
            "text/plain": [
              "Text(0, 0.5, 'Solar Irradiance in W-h/m$^2$')"
            ]
          },
          "metadata": {
            "tags": []
          },
          "execution_count": 10
        },
        {
          "output_type": "display_data",
          "data": {
            "image/png": "[encoded data removed]",
            "text/plain": [
              "<Figure size 432x288 with 1 Axes>"
            ]
          },
          "metadata": {
            "tags": [],
            "needs_background": "light"
          }
        }
      ]
    },
    {
      "cell_type": "code",
      "metadata": {
        "colab": {
          "base_uri": "https://localhost:8080/",
          "height": 419
        },
        "id": "c51-BpKXm1cv",
        "outputId": "4c82a13d-dc1d-49a5-89cb-9c1cb4269af8"
      },
      "source": [
        "df_var= df[['y','x1','x2','x3','x4','x5','x6','x7','x8','x9','x10','x11','x12','x13','x14','x15','x16','x17','x18']]\n",
        "df_var"
      ],
      "execution_count": 11,
      "outputs": [
        {
          "output_type": "execute_result",
          "data": {
            "text/html": [
              "<div>\n",
              "<style scoped>\n",
              "    .dataframe tbody tr th:only-of-type {\n",
              "        vertical-align: middle;\n",
              "    }\n",
              "\n",
              "    .dataframe tbody tr th {\n",
              "        vertical-align: top;\n",
              "    }\n",
              "\n",
              "    .dataframe thead th {\n",
              "        text-align: right;\n",
              "    }\n",
              "</style>\n",
              "<table border=\"1\" class=\"dataframe\">\n",
              "  <thead>\n",
              "    <tr style=\"text-align: right;\">\n",
              "      <th></th>\n",
              "      <th>y</th>\n",
              "      <th>x1</th>\n",
              "      <th>x2</th>\n",
              "      <th>x3</th>\n",
              "      <th>x4</th>\n",
              "      <th>x5</th>\n",
              "      <th>x6</th>\n",
              "      <th>x7</th>\n",
              "      <th>x8</th>\n",
              "      <th>x9</th>\n",
              "      <th>x10</th>\n",
              "      <th>x11</th>\n",
              "      <th>x12</th>\n",
              "      <th>x13</th>\n",
              "      <th>x14</th>\n",
              "      <th>x15</th>\n",
              "      <th>x16</th>\n",
              "      <th>x17</th>\n",
              "      <th>x18</th>\n",
              "    </tr>\n",
              "  </thead>\n",
              "  <tbody>\n",
              "    <tr>\n",
              "      <th>0</th>\n",
              "      <td>0.81</td>\n",
              "      <td>0.77</td>\n",
              "      <td>0.92</td>\n",
              "      <td>1.37</td>\n",
              "      <td>0.85</td>\n",
              "      <td>0.96</td>\n",
              "      <td>1.08</td>\n",
              "      <td>0.96</td>\n",
              "      <td>1.48</td>\n",
              "      <td>1.64</td>\n",
              "      <td>1.13</td>\n",
              "      <td>1.05</td>\n",
              "      <td>1.14</td>\n",
              "      <td>1.05</td>\n",
              "      <td>1.88</td>\n",
              "      <td>1.18</td>\n",
              "      <td>0.82</td>\n",
              "      <td>1.14</td>\n",
              "      <td>0.76</td>\n",
              "    </tr>\n",
              "    <tr>\n",
              "      <th>1</th>\n",
              "      <td>1.71</td>\n",
              "      <td>1.33</td>\n",
              "      <td>1.69</td>\n",
              "      <td>1.87</td>\n",
              "      <td>1.41</td>\n",
              "      <td>1.36</td>\n",
              "      <td>0.93</td>\n",
              "      <td>1.10</td>\n",
              "      <td>1.83</td>\n",
              "      <td>1.91</td>\n",
              "      <td>1.95</td>\n",
              "      <td>1.14</td>\n",
              "      <td>1.22</td>\n",
              "      <td>1.20</td>\n",
              "      <td>2.03</td>\n",
              "      <td>1.82</td>\n",
              "      <td>1.11</td>\n",
              "      <td>1.14</td>\n",
              "      <td>1.32</td>\n",
              "    </tr>\n",
              "    <tr>\n",
              "      <th>2</th>\n",
              "      <td>1.38</td>\n",
              "      <td>0.82</td>\n",
              "      <td>1.02</td>\n",
              "      <td>1.23</td>\n",
              "      <td>1.39</td>\n",
              "      <td>1.32</td>\n",
              "      <td>1.10</td>\n",
              "      <td>0.91</td>\n",
              "      <td>0.92</td>\n",
              "      <td>1.74</td>\n",
              "      <td>2.26</td>\n",
              "      <td>1.41</td>\n",
              "      <td>1.25</td>\n",
              "      <td>0.84</td>\n",
              "      <td>1.09</td>\n",
              "      <td>2.59</td>\n",
              "      <td>1.14</td>\n",
              "      <td>1.31</td>\n",
              "      <td>1.40</td>\n",
              "    </tr>\n",
              "    <tr>\n",
              "      <th>3</th>\n",
              "      <td>1.78</td>\n",
              "      <td>2.44</td>\n",
              "      <td>1.44</td>\n",
              "      <td>2.47</td>\n",
              "      <td>2.88</td>\n",
              "      <td>2.66</td>\n",
              "      <td>2.62</td>\n",
              "      <td>2.86</td>\n",
              "      <td>2.39</td>\n",
              "      <td>3.31</td>\n",
              "      <td>3.32</td>\n",
              "      <td>2.82</td>\n",
              "      <td>2.61</td>\n",
              "      <td>2.41</td>\n",
              "      <td>2.30</td>\n",
              "      <td>3.43</td>\n",
              "      <td>3.07</td>\n",
              "      <td>2.58</td>\n",
              "      <td>3.13</td>\n",
              "    </tr>\n",
              "    <tr>\n",
              "      <th>4</th>\n",
              "      <td>4.09</td>\n",
              "      <td>3.77</td>\n",
              "      <td>4.05</td>\n",
              "      <td>4.32</td>\n",
              "      <td>4.37</td>\n",
              "      <td>4.11</td>\n",
              "      <td>3.79</td>\n",
              "      <td>3.07</td>\n",
              "      <td>4.03</td>\n",
              "      <td>4.51</td>\n",
              "      <td>4.53</td>\n",
              "      <td>4.16</td>\n",
              "      <td>3.71</td>\n",
              "      <td>3.56</td>\n",
              "      <td>4.26</td>\n",
              "      <td>4.53</td>\n",
              "      <td>3.30</td>\n",
              "      <td>3.89</td>\n",
              "      <td>4.38</td>\n",
              "    </tr>\n",
              "    <tr>\n",
              "      <th>...</th>\n",
              "      <td>...</td>\n",
              "      <td>...</td>\n",
              "      <td>...</td>\n",
              "      <td>...</td>\n",
              "      <td>...</td>\n",
              "      <td>...</td>\n",
              "      <td>...</td>\n",
              "      <td>...</td>\n",
              "      <td>...</td>\n",
              "      <td>...</td>\n",
              "      <td>...</td>\n",
              "      <td>...</td>\n",
              "      <td>...</td>\n",
              "      <td>...</td>\n",
              "      <td>...</td>\n",
              "      <td>...</td>\n",
              "      <td>...</td>\n",
              "      <td>...</td>\n",
              "      <td>...</td>\n",
              "    </tr>\n",
              "    <tr>\n",
              "      <th>1801</th>\n",
              "      <td>3.95</td>\n",
              "      <td>2.65</td>\n",
              "      <td>3.82</td>\n",
              "      <td>4.22</td>\n",
              "      <td>4.34</td>\n",
              "      <td>3.72</td>\n",
              "      <td>2.63</td>\n",
              "      <td>2.62</td>\n",
              "      <td>3.87</td>\n",
              "      <td>4.38</td>\n",
              "      <td>4.54</td>\n",
              "      <td>3.47</td>\n",
              "      <td>2.76</td>\n",
              "      <td>2.67</td>\n",
              "      <td>4.18</td>\n",
              "      <td>4.46</td>\n",
              "      <td>2.74</td>\n",
              "      <td>3.01</td>\n",
              "      <td>4.33</td>\n",
              "    </tr>\n",
              "    <tr>\n",
              "      <th>1802</th>\n",
              "      <td>3.50</td>\n",
              "      <td>1.72</td>\n",
              "      <td>3.38</td>\n",
              "      <td>4.23</td>\n",
              "      <td>4.31</td>\n",
              "      <td>3.64</td>\n",
              "      <td>2.67</td>\n",
              "      <td>2.23</td>\n",
              "      <td>3.53</td>\n",
              "      <td>4.48</td>\n",
              "      <td>4.58</td>\n",
              "      <td>3.68</td>\n",
              "      <td>2.36</td>\n",
              "      <td>1.71</td>\n",
              "      <td>4.13</td>\n",
              "      <td>4.55</td>\n",
              "      <td>1.67</td>\n",
              "      <td>1.64</td>\n",
              "      <td>4.36</td>\n",
              "    </tr>\n",
              "    <tr>\n",
              "      <th>1803</th>\n",
              "      <td>3.06</td>\n",
              "      <td>2.64</td>\n",
              "      <td>3.23</td>\n",
              "      <td>4.15</td>\n",
              "      <td>4.19</td>\n",
              "      <td>3.29</td>\n",
              "      <td>2.57</td>\n",
              "      <td>1.54</td>\n",
              "      <td>3.14</td>\n",
              "      <td>4.35</td>\n",
              "      <td>4.37</td>\n",
              "      <td>3.55</td>\n",
              "      <td>2.21</td>\n",
              "      <td>2.96</td>\n",
              "      <td>4.10</td>\n",
              "      <td>4.20</td>\n",
              "      <td>2.34</td>\n",
              "      <td>3.03</td>\n",
              "      <td>3.90</td>\n",
              "    </tr>\n",
              "    <tr>\n",
              "      <th>1804</th>\n",
              "      <td>3.41</td>\n",
              "      <td>0.88</td>\n",
              "      <td>3.25</td>\n",
              "      <td>4.16</td>\n",
              "      <td>4.30</td>\n",
              "      <td>3.87</td>\n",
              "      <td>2.16</td>\n",
              "      <td>2.37</td>\n",
              "      <td>2.30</td>\n",
              "      <td>4.36</td>\n",
              "      <td>4.48</td>\n",
              "      <td>3.67</td>\n",
              "      <td>1.31</td>\n",
              "      <td>1.67</td>\n",
              "      <td>4.09</td>\n",
              "      <td>4.43</td>\n",
              "      <td>2.20</td>\n",
              "      <td>1.61</td>\n",
              "      <td>4.15</td>\n",
              "    </tr>\n",
              "    <tr>\n",
              "      <th>1805</th>\n",
              "      <td>3.50</td>\n",
              "      <td>3.02</td>\n",
              "      <td>3.61</td>\n",
              "      <td>3.63</td>\n",
              "      <td>1.95</td>\n",
              "      <td>2.56</td>\n",
              "      <td>1.87</td>\n",
              "      <td>3.07</td>\n",
              "      <td>3.60</td>\n",
              "      <td>3.72</td>\n",
              "      <td>1.74</td>\n",
              "      <td>1.77</td>\n",
              "      <td>2.59</td>\n",
              "      <td>3.01</td>\n",
              "      <td>4.09</td>\n",
              "      <td>2.81</td>\n",
              "      <td>2.97</td>\n",
              "      <td>1.46</td>\n",
              "      <td>1.51</td>\n",
              "    </tr>\n",
              "  </tbody>\n",
              "</table>\n",
              "<p>1806 rows × 19 columns</p>\n",
              "</div>"
            ],
            "text/plain": [
              "         y    x1    x2    x3    x4    x5  ...   x13   x14   x15   x16   x17   x18\n",
              "0     0.81  0.77  0.92  1.37  0.85  0.96  ...  1.05  1.88  1.18  0.82  1.14  0.76\n",
              "1     1.71  1.33  1.69  1.87  1.41  1.36  ...  1.20  2.03  1.82  1.11  1.14  1.32\n",
              "2     1.38  0.82  1.02  1.23  1.39  1.32  ...  0.84  1.09  2.59  1.14  1.31  1.40\n",
              "3     1.78  2.44  1.44  2.47  2.88  2.66  ...  2.41  2.30  3.43  3.07  2.58  3.13\n",
              "4     4.09  3.77  4.05  4.32  4.37  4.11  ...  3.56  4.26  4.53  3.30  3.89  4.38\n",
              "...    ...   ...   ...   ...   ...   ...  ...   ...   ...   ...   ...   ...   ...\n",
              "1801  3.95  2.65  3.82  4.22  4.34  3.72  ...  2.67  4.18  4.46  2.74  3.01  4.33\n",
              "1802  3.50  1.72  3.38  4.23  4.31  3.64  ...  1.71  4.13  4.55  1.67  1.64  4.36\n",
              "1803  3.06  2.64  3.23  4.15  4.19  3.29  ...  2.96  4.10  4.20  2.34  3.03  3.90\n",
              "1804  3.41  0.88  3.25  4.16  4.30  3.87  ...  1.67  4.09  4.43  2.20  1.61  4.15\n",
              "1805  3.50  3.02  3.61  3.63  1.95  2.56  ...  3.01  4.09  2.81  2.97  1.46  1.51\n",
              "\n",
              "[1806 rows x 19 columns]"
            ]
          },
          "metadata": {
            "tags": []
          },
          "execution_count": 11
        }
      ]
    },
    {
      "cell_type": "code",
      "metadata": {
        "colab": {
          "base_uri": "https://localhost:8080/"
        },
        "id": "QwX3yQ8mm86S",
        "outputId": "b06a84f8-d8bb-4f7f-ac8a-b7e9e76a5864"
      },
      "source": [
        "df_corr = df_var.corr()\n",
        "df_corr.iloc[0]"
      ],
      "execution_count": 17,
      "outputs": [
        {
          "output_type": "execute_result",
          "data": {
            "text/plain": [
              "y      1.000000\n",
              "x1     0.871640\n",
              "x2     0.937775\n",
              "x3     0.863898\n",
              "x4     0.888168\n",
              "x5     0.933498\n",
              "x6     0.869102\n",
              "x7     0.779016\n",
              "x8     0.857737\n",
              "x9     0.759325\n",
              "x10    0.773330\n",
              "x11    0.849763\n",
              "x12    0.783686\n",
              "x13    0.823563\n",
              "x14    0.802668\n",
              "x15    0.778941\n",
              "x16    0.793392\n",
              "x17    0.818185\n",
              "x18    0.826111\n",
              "Name: y, dtype: float64"
            ]
          },
          "metadata": {
            "tags": []
          },
          "execution_count": 17
        }
      ]
    },
    {
      "cell_type": "code",
      "metadata": {
        "id": "szoo8iOPnZDu"
      },
      "source": [
        "correlated_features = set()\n",
        "for i in range(len(df_corr .columns)):\n",
        "    for j in range(1):\n",
        "        if df_corr.iloc[i, j] > 0.86:\n",
        "            colname = df_corr.columns[i]\n",
        "            correlated_features.add(colname)"
      ],
      "execution_count": 36,
      "outputs": []
    },
    {
      "cell_type": "code",
      "metadata": {
        "colab": {
          "base_uri": "https://localhost:8080/"
        },
        "id": "JEQdcTtEpBAb",
        "outputId": "d73d48cd-cdc9-43c5-f3dd-e557d8b66755"
      },
      "source": [
        "len(correlated_features)"
      ],
      "execution_count": 37,
      "outputs": [
        {
          "output_type": "execute_result",
          "data": {
            "text/plain": [
              "7"
            ]
          },
          "metadata": {
            "tags": []
          },
          "execution_count": 37
        }
      ]
    },
    {
      "cell_type": "code",
      "metadata": {
        "colab": {
          "base_uri": "https://localhost:8080/"
        },
        "id": "cThgEPlfp2Xr",
        "outputId": "2c501f44-dcd7-4fa4-dd2a-d7a4551454d5"
      },
      "source": [
        "print(correlated_features)"
      ],
      "execution_count": 38,
      "outputs": [
        {
          "output_type": "stream",
          "text": [
            "{'x4', 'x5', 'x1', 'x2', 'y', 'x3', 'x6'}\n"
          ],
          "name": "stdout"
        }
      ]
    }
  ]
}