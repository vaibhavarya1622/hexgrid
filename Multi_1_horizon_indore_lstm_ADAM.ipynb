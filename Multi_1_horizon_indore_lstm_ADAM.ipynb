{
  "nbformat": 4,
  "nbformat_minor": 0,
  "metadata": {
    "kernelspec": {
      "display_name": "Python 3",
      "language": "python",
      "name": "python3"
    },
    "language_info": {
      "codemirror_mode": {
        "name": "ipython",
        "version": 3
      },
      "file_extension": ".py",
      "mimetype": "text/x-python",
      "name": "python",
      "nbconvert_exporter": "python",
      "pygments_lexer": "ipython3",
      "version": "3.6.6"
    },
    "colab": {
      "name": "Multi 1 horizon indore lstm_ADAM.ipynb",
      "provenance": [],
      "collapsed_sections": []
    }
  },
  "cells": [
    {
      "cell_type": "markdown",
      "metadata": {
        "id": "H7jkFTinChJp"
      },
      "source": [
        "# Cross-Validation Model I"
      ]
    },
    {
      "cell_type": "markdown",
      "metadata": {
        "id": "1pXxHBEWChJu"
      },
      "source": [
        "# Cyclical LR- Triangular"
      ]
    },
    {
      "cell_type": "markdown",
      "metadata": {
        "id": "YyWMLktbChJ0"
      },
      "source": [
        "# Dropout"
      ]
    },
    {
      "cell_type": "markdown",
      "metadata": {
        "id": "nyXdyNakChJ8"
      },
      "source": [
        "## Batch size = 32; Epochs = 100; Hidden layers = 12,2,2,2,2; Optimizer = ADAM\n"
      ]
    },
    {
      "cell_type": "code",
      "metadata": {
        "id": "epjPwA6ZJbuK"
      },
      "source": [
        "import pandas as pd\n",
        "import numpy as np\n",
        "import matplotlib.pyplot as plt\n",
        "from datetime import datetime\n",
        "from pandas import Series\n",
        "%matplotlib inline\n",
        "import warnings\n",
        "warnings.filterwarnings(\"ignore\")\n",
        "import numpy as np\n",
        "import tensorflow as tf\n",
        "import random as rn\n",
        "from keras.models import Sequential\n",
        "from keras.layers import Activation\n",
        "from keras.layers import LSTM\n",
        "from keras.layers import Dense, LSTM, Dropout, Activation, SimpleRNN\n",
        "from sklearn.preprocessing import MinMaxScaler\n",
        "import os\n",
        "from keras import optimizers\n",
        "from keras.layers import GRU\n",
        "\n",
        "from keras.utils.vis_utils import plot_model\n",
        "\n",
        "import matplotlib.pyplot as plt\n",
        "%matplotlib inline\n",
        "\n",
        "os.environ['PYTHONHASHSEED'] = '0'\n",
        "\n",
        "np.random.seed(2017)  \n",
        "rn.seed(12345)\n",
        "\n",
        "# Force TensorFlow to use single thread.\n",
        "# Multiple threads are a potential source of non-reproducible results.\n",
        "# For further details, see: https://stackoverflow.com/questions/42022950/\n",
        "\n",
        "#session_conf = tf.ConfigProto(intra_op_parallelism_threads=1,\n",
        "#                              inter_op_parallelism_threads=1, allow_soft_placement=True, device_count = {'CPU': 1})\n",
        "\n",
        "from keras import backend as K\n",
        "\n",
        "# The below tf.set_random_seed() will make random number generation\n",
        "# in the TensorFlow backend have a well-defined initial state.\n",
        "# For further details, see:\n",
        "# https://www.tensorflow.org/api_docs/python/tf/set_random_seed\n",
        "\n",
        "#tf.set_random_seed(1234)\n",
        "\n",
        "#sess = tf.Session(graph=tf.get_default_graph(), config=session_conf)\n",
        "#K.set_session(sess)"
      ],
      "execution_count": null,
      "outputs": []
    },
    {
      "cell_type": "code",
      "metadata": {
        "id": "7Hvgp7PaJb5f"
      },
      "source": [
        "# Code to read csv file into Colaboratory:\n",
        "!pip install -U -q PyDrive\n",
        "from pydrive.auth import GoogleAuth\n",
        "from pydrive.drive import GoogleDrive\n",
        "from google.colab import auth\n",
        "from oauth2client.client import GoogleCredentials\n",
        "# Authenticate and create the PyDrive client.\n",
        "auth.authenticate_user()\n",
        "gauth = GoogleAuth()\n",
        "gauth.credentials = GoogleCredentials.get_application_default()\n",
        "drive = GoogleDrive(gauth)"
      ],
      "execution_count": null,
      "outputs": []
    },
    {
      "cell_type": "code",
      "metadata": {
        "id": "IhebcfKQHp5a"
      },
      "source": [
        ""
      ],
      "execution_count": null,
      "outputs": []
    },
    {
      "cell_type": "markdown",
      "metadata": {
        "id": "itf8sfJpGS87"
      },
      "source": [
        "#Data"
      ]
    },
    {
      "cell_type": "code",
      "metadata": {
        "id": "KjuN5gxBJb98"
      },
      "source": [
        "#link ='https://drive.google.com/open?id=1_gf6lVsSBCoGFlyl6rF2ebZ21-0VGf18'\n",
        "#id = '1TdvPd2nLn9gOJfvUthHgHmrmqvXeESfh'\n",
        "id = '1E2wviJV2W6SImpK-iRjTsPcOBvVx3iIo'"
      ],
      "execution_count": null,
      "outputs": []
    },
    {
      "cell_type": "code",
      "metadata": {
        "id": "6UZRInKLJchy"
      },
      "source": [
        "downloaded = drive.CreateFile({'id':id}) \n",
        "downloaded.GetContentFile('target 2.csv')  "
      ],
      "execution_count": null,
      "outputs": []
    },
    {
      "cell_type": "code",
      "metadata": {
        "id": "R9eOFfQVChKA"
      },
      "source": [
        "import numpy as np\n",
        "import tensorflow as tf\n",
        "import random as rn\n",
        "from keras.models import Sequential\n",
        "from keras.layers import Activation\n",
        "from keras.layers import SimpleRNN\n",
        "from keras.layers import Dense, LSTM, Dropout, Activation\n",
        "from sklearn.preprocessing import MinMaxScaler\n",
        "import os\n",
        "import pandas as pd\n",
        "from keras import optimizers"
      ],
      "execution_count": null,
      "outputs": []
    },
    {
      "cell_type": "code",
      "metadata": {
        "id": "3jor_qWHChKb"
      },
      "source": [
        "from keras.utils.vis_utils import plot_model\n",
        "\n",
        "import matplotlib.pyplot as plt\n",
        "%matplotlib inline\n",
        "\n",
        "os.environ['PYTHONHASHSEED'] = '0'\n",
        "\n",
        "np.random.seed(2017)  \n",
        "rn.seed(12345)\n",
        "\n",
        "# Force TensorFlow to use single thread.\n",
        "# Multiple threads are a potential source of non-reproducible results.\n",
        "# For further details, see: https://stackoverflow.com/questions/42022950/\n",
        "\n",
        "from keras import backend as K\n",
        "\n",
        "# The below tf.set_random_seed() will make random number generation\n",
        "# in the TensorFlow backend have a well-defined initial state.\n",
        "# For further details, see:\n",
        "# https://www.tensorflow.org/api_docs/python/tf/set_random_seed\n"
      ],
      "execution_count": null,
      "outputs": []
    },
    {
      "cell_type": "code",
      "metadata": {
        "id": "IARvUE1dChKr",
        "colab": {
          "base_uri": "https://localhost:8080/",
          "height": 219
        },
        "outputId": "d3204869-e386-4d33-aec9-dfb961e8afd7"
      },
      "source": [
        "xy = pd.read_csv('target 2.csv', skiprows=(10))\n",
        "print(xy.head(10))"
      ],
      "execution_count": null,
      "outputs": [
        {
          "output_type": "stream",
          "text": [
            "        LAT       LON  YEAR  MO  DY  Insolation     1     4    11    12    14\n",
            "0  22.71961  75.85771  1983   7   2        2.94  1.48  2.47  4.26  4.46  3.84\n",
            "1  22.71961  75.85771  1983   7   3        3.26  2.10  4.40  4.33  2.79  2.82\n",
            "2  22.71961  75.85771  1983   7   4        6.09  5.55  4.76  5.60  5.69  5.88\n",
            "3  22.71961  75.85771  1983   7   5        5.64  5.79  5.48  5.75  5.40  5.67\n",
            "4  22.71961  75.85771  1983   7   6        6.33  5.78  6.33  6.06  5.97  7.03\n",
            "5  22.71961  75.85771  1983   7   7        5.90  5.92  6.98  6.21  5.84  4.64\n",
            "6  22.71961  75.85771  1983   7   8        5.58  6.07  6.59  5.92  6.16  4.44\n",
            "7  22.71961  75.85771  1983   7   9        6.14  6.27  5.37  5.90  7.11  6.68\n",
            "8  22.71961  75.85771  1983   7  10        4.61  5.48  5.00  5.91  4.48  3.80\n",
            "9  22.71961  75.85771  1983   7  11        5.88  5.56  3.96  5.79  4.70  3.93\n"
          ],
          "name": "stdout"
        }
      ]
    },
    {
      "cell_type": "code",
      "metadata": {
        "id": "OS-7sN3lh9Ea"
      },
      "source": [
        "xy = xy.drop(columns=['LAT', 'LON', '11', '14'])"
      ],
      "execution_count": null,
      "outputs": []
    },
    {
      "cell_type": "code",
      "metadata": {
        "id": "vETL-FBZh-En"
      },
      "source": [
        "from sklearn.preprocessing import MinMaxScaler\n",
        "from sklearn.impute import SimpleImputer\n",
        "xy = xy.replace(-999, np.nan)\n",
        "#x2 = x2.replace(-999, np.nan)\n",
        "#x3 = x3.replace(-999, np.nan)\n",
        "\n",
        "xy = xy.fillna(xy.mean())\n",
        "#x2 = x2.fillna(x2.mean())\n",
        "#x3 = x3.fillna(x3.mean())"
      ],
      "execution_count": null,
      "outputs": []
    },
    {
      "cell_type": "code",
      "metadata": {
        "id": "a8QbgnhUifps",
        "colab": {
          "base_uri": "https://localhost:8080/",
          "height": 35
        },
        "outputId": "5a6cbf75-0e67-44f8-d4e3-49c5f525f990"
      },
      "source": [
        "xy = xy.set_index(['YEAR', 'MO', 'DY'])\n",
        "xy.columns"
      ],
      "execution_count": null,
      "outputs": [
        {
          "output_type": "execute_result",
          "data": {
            "text/plain": [
              "Index(['Insolation', '1', '4', '12'], dtype='object')"
            ]
          },
          "metadata": {
            "tags": []
          },
          "execution_count": 10
        }
      ]
    },
    {
      "cell_type": "markdown",
      "metadata": {
        "id": "F4lhYVJHHiTa"
      },
      "source": [
        "# division"
      ]
    },
    {
      "cell_type": "code",
      "metadata": {
        "id": "82MpYeWnChLA",
        "colab": {
          "base_uri": "https://localhost:8080/",
          "height": 300
        },
        "outputId": "9d650da0-6040-4678-d1af-f9ae1d9a75d9"
      },
      "source": [
        "xy.describe()"
      ],
      "execution_count": null,
      "outputs": [
        {
          "output_type": "execute_result",
          "data": {
            "text/html": [
              "<div>\n",
              "<style scoped>\n",
              "    .dataframe tbody tr th:only-of-type {\n",
              "        vertical-align: middle;\n",
              "    }\n",
              "\n",
              "    .dataframe tbody tr th {\n",
              "        vertical-align: top;\n",
              "    }\n",
              "\n",
              "    .dataframe thead th {\n",
              "        text-align: right;\n",
              "    }\n",
              "</style>\n",
              "<table border=\"1\" class=\"dataframe\">\n",
              "  <thead>\n",
              "    <tr style=\"text-align: right;\">\n",
              "      <th></th>\n",
              "      <th>Insolation</th>\n",
              "      <th>1</th>\n",
              "      <th>4</th>\n",
              "      <th>12</th>\n",
              "    </tr>\n",
              "  </thead>\n",
              "  <tbody>\n",
              "    <tr>\n",
              "      <th>count</th>\n",
              "      <td>13000.000000</td>\n",
              "      <td>13000.000000</td>\n",
              "      <td>13000.00000</td>\n",
              "      <td>13000.000000</td>\n",
              "    </tr>\n",
              "    <tr>\n",
              "      <th>mean</th>\n",
              "      <td>5.173968</td>\n",
              "      <td>5.204824</td>\n",
              "      <td>5.17300</td>\n",
              "      <td>5.169313</td>\n",
              "    </tr>\n",
              "    <tr>\n",
              "      <th>std</th>\n",
              "      <td>1.383432</td>\n",
              "      <td>1.370288</td>\n",
              "      <td>1.40143</td>\n",
              "      <td>1.400469</td>\n",
              "    </tr>\n",
              "    <tr>\n",
              "      <th>min</th>\n",
              "      <td>0.160000</td>\n",
              "      <td>0.170000</td>\n",
              "      <td>0.18000</td>\n",
              "      <td>0.150000</td>\n",
              "    </tr>\n",
              "    <tr>\n",
              "      <th>25%</th>\n",
              "      <td>4.440000</td>\n",
              "      <td>4.450000</td>\n",
              "      <td>4.43000</td>\n",
              "      <td>4.377500</td>\n",
              "    </tr>\n",
              "    <tr>\n",
              "      <th>50%</th>\n",
              "      <td>5.160000</td>\n",
              "      <td>5.200000</td>\n",
              "      <td>5.19000</td>\n",
              "      <td>5.160000</td>\n",
              "    </tr>\n",
              "    <tr>\n",
              "      <th>75%</th>\n",
              "      <td>6.110000</td>\n",
              "      <td>6.120000</td>\n",
              "      <td>6.15000</td>\n",
              "      <td>6.150000</td>\n",
              "    </tr>\n",
              "    <tr>\n",
              "      <th>max</th>\n",
              "      <td>8.660000</td>\n",
              "      <td>8.270000</td>\n",
              "      <td>8.27000</td>\n",
              "      <td>8.320000</td>\n",
              "    </tr>\n",
              "  </tbody>\n",
              "</table>\n",
              "</div>"
            ],
            "text/plain": [
              "         Insolation             1            4            12\n",
              "count  13000.000000  13000.000000  13000.00000  13000.000000\n",
              "mean       5.173968      5.204824      5.17300      5.169313\n",
              "std        1.383432      1.370288      1.40143      1.400469\n",
              "min        0.160000      0.170000      0.18000      0.150000\n",
              "25%        4.440000      4.450000      4.43000      4.377500\n",
              "50%        5.160000      5.200000      5.19000      5.160000\n",
              "75%        6.110000      6.120000      6.15000      6.150000\n",
              "max        8.660000      8.270000      8.27000      8.320000"
            ]
          },
          "metadata": {
            "tags": []
          },
          "execution_count": 11
        }
      ]
    },
    {
      "cell_type": "code",
      "metadata": {
        "id": "HNZS1lQVChLS",
        "colab": {
          "base_uri": "https://localhost:8080/",
          "height": 164
        },
        "outputId": "5c03d45a-300a-4c3a-c34b-026842781d89"
      },
      "source": [
        "# convert series to supervised learning\n",
        "def series_to_supervised(data, n_in=1, n_out=1, dropnan=True):\n",
        "\tn_vars = 1 if type(data) is list else data.shape[1]\n",
        "\tdf = pd.DataFrame(data)\n",
        "\tcols, names = list(), list()\n",
        "\t# input sequence (t-n, ... t-1)\n",
        "\tfor i in range(n_in, 0, -1):\n",
        "\t\tcols.append(df.shift(i))\n",
        "\t\tnames += [('var%d(t-%d)' % (j+1, i)) for j in range(n_vars)]\n",
        "\t# forecast sequence (t, t+1, ... t+n)\n",
        "\tfor i in range(0, n_out):\n",
        "\t\tcols.append(df.shift(-i))\n",
        "\t\tif i == 0:\n",
        "\t\t\tnames += [('var%d(t)' % (j+1)) for j in range(n_vars)]\n",
        "\t\telse:\n",
        "\t\t\tnames += [('var%d(t+%d)' % (j+1, i)) for j in range(n_vars)]\n",
        "\t# put it all together\n",
        "\tagg = pd.concat(cols, axis=1)\n",
        "\tagg.columns = names\n",
        "\t# drop rows with NaN values\n",
        "\tif dropnan:\n",
        "\t\tagg.dropna(inplace=True)\n",
        "\treturn agg\n",
        "\n",
        "# load dataset\n",
        "values = xy.values\n",
        "# ensure all data is float\n",
        "values = values.astype('float32')\n",
        "## normalize features\n",
        "#scaler = MinMaxScaler(feature_range=(0, 1))\n",
        "#scaled = scaler.fit_transform(values)\n",
        "# frame as supervised learning\n",
        "reframed = series_to_supervised(values, 9, 1)\n",
        "# drop columns we don't want to predict\n",
        "print(reframed.head())"
      ],
      "execution_count": null,
      "outputs": [
        {
          "output_type": "stream",
          "text": [
            "    var1(t-9)  var2(t-9)  var3(t-9)  ...  var2(t)  var3(t)  var4(t)\n",
            "9        2.94       1.48       2.47  ...     5.56     3.96     4.70\n",
            "10       3.26       2.10       4.40  ...     6.10     4.77     5.05\n",
            "11       6.09       5.55       4.76  ...     7.18     4.68     4.77\n",
            "12       5.64       5.79       5.48  ...     4.06     6.42     5.40\n",
            "13       6.33       5.78       6.33  ...     4.09     5.21     3.50\n",
            "\n",
            "[5 rows x 40 columns]\n"
          ],
          "name": "stdout"
        }
      ]
    },
    {
      "cell_type": "code",
      "metadata": {
        "id": "iOhP-wq-ChLm",
        "colab": {
          "base_uri": "https://localhost:8080/",
          "height": 182
        },
        "outputId": "2c240731-8351-4cdb-822f-ca10481d60bf"
      },
      "source": [
        "reframed.columns"
      ],
      "execution_count": null,
      "outputs": [
        {
          "output_type": "execute_result",
          "data": {
            "text/plain": [
              "Index(['var1(t-9)', 'var2(t-9)', 'var3(t-9)', 'var4(t-9)', 'var1(t-8)',\n",
              "       'var2(t-8)', 'var3(t-8)', 'var4(t-8)', 'var1(t-7)', 'var2(t-7)',\n",
              "       'var3(t-7)', 'var4(t-7)', 'var1(t-6)', 'var2(t-6)', 'var3(t-6)',\n",
              "       'var4(t-6)', 'var1(t-5)', 'var2(t-5)', 'var3(t-5)', 'var4(t-5)',\n",
              "       'var1(t-4)', 'var2(t-4)', 'var3(t-4)', 'var4(t-4)', 'var1(t-3)',\n",
              "       'var2(t-3)', 'var3(t-3)', 'var4(t-3)', 'var1(t-2)', 'var2(t-2)',\n",
              "       'var3(t-2)', 'var4(t-2)', 'var1(t-1)', 'var2(t-1)', 'var3(t-1)',\n",
              "       'var4(t-1)', 'var1(t)', 'var2(t)', 'var3(t)', 'var4(t)'],\n",
              "      dtype='object')"
            ]
          },
          "metadata": {
            "tags": []
          },
          "execution_count": 13
        }
      ]
    },
    {
      "cell_type": "code",
      "metadata": {
        "id": "Ijjgg7WMjh8c",
        "colab": {
          "base_uri": "https://localhost:8080/",
          "height": 182
        },
        "outputId": "04d7f0b3-b22f-4d1e-9a66-939a67650d1c"
      },
      "source": [
        "reframed = reframed[['var1(t-9)', 'var2(t-9)', 'var3(t-9)', 'var4(t-9)', 'var1(t-8)',\n",
        "       'var2(t-8)', 'var3(t-8)', 'var4(t-8)', 'var1(t-7)', 'var2(t-7)',\n",
        "       'var3(t-7)', 'var4(t-7)', 'var1(t-6)', 'var2(t-6)', 'var3(t-6)',\n",
        "       'var4(t-6)', 'var1(t-5)', 'var2(t-5)', 'var3(t-5)', 'var4(t-5)',\n",
        "       'var1(t-4)', 'var2(t-4)', 'var3(t-4)', 'var4(t-4)', 'var1(t-3)',\n",
        "       'var2(t-3)', 'var3(t-3)', 'var4(t-3)', 'var1(t-2)', 'var2(t-2)',\n",
        "       'var3(t-2)', 'var4(t-2)', 'var1(t-1)', 'var2(t-1)', 'var3(t-1)',\n",
        "       'var4(t-1)', 'var1(t)']]\n",
        "reframed.columns"
      ],
      "execution_count": null,
      "outputs": [
        {
          "output_type": "execute_result",
          "data": {
            "text/plain": [
              "Index(['var1(t-9)', 'var2(t-9)', 'var3(t-9)', 'var4(t-9)', 'var1(t-8)',\n",
              "       'var2(t-8)', 'var3(t-8)', 'var4(t-8)', 'var1(t-7)', 'var2(t-7)',\n",
              "       'var3(t-7)', 'var4(t-7)', 'var1(t-6)', 'var2(t-6)', 'var3(t-6)',\n",
              "       'var4(t-6)', 'var1(t-5)', 'var2(t-5)', 'var3(t-5)', 'var4(t-5)',\n",
              "       'var1(t-4)', 'var2(t-4)', 'var3(t-4)', 'var4(t-4)', 'var1(t-3)',\n",
              "       'var2(t-3)', 'var3(t-3)', 'var4(t-3)', 'var1(t-2)', 'var2(t-2)',\n",
              "       'var3(t-2)', 'var4(t-2)', 'var1(t-1)', 'var2(t-1)', 'var3(t-1)',\n",
              "       'var4(t-1)', 'var1(t)'],\n",
              "      dtype='object')"
            ]
          },
          "metadata": {
            "tags": []
          },
          "execution_count": 14
        }
      ]
    },
    {
      "cell_type": "code",
      "metadata": {
        "id": "heGP6nj6j_bh",
        "colab": {
          "base_uri": "https://localhost:8080/",
          "height": 35
        },
        "outputId": "8dfefa58-9e76-473d-85a9-fd2645aadc92"
      },
      "source": [
        "reframed.shape"
      ],
      "execution_count": null,
      "outputs": [
        {
          "output_type": "execute_result",
          "data": {
            "text/plain": [
              "(12991, 37)"
            ]
          },
          "metadata": {
            "tags": []
          },
          "execution_count": 15
        }
      ]
    },
    {
      "cell_type": "code",
      "metadata": {
        "id": "Uye-_F2ekE-N"
      },
      "source": [
        "values = reframed.values"
      ],
      "execution_count": null,
      "outputs": []
    },
    {
      "cell_type": "code",
      "metadata": {
        "id": "0GKkCB_DChL6",
        "colab": {
          "base_uri": "https://localhost:8080/",
          "height": 1000
        },
        "outputId": "5b988a0e-0480-4941-ff21-f00216eb1493"
      },
      "source": [
        "dataset = np.array(values)\n",
        "x = dataset[:,0:36]\n",
        "y = dataset[:,[36]]\n",
        "\n",
        "\n",
        "scaler1 = MinMaxScaler(feature_range=(0, 1))\n",
        "x = scaler1.fit_transform(x)\n",
        "scaler2 = MinMaxScaler(feature_range=(0, 1))\n",
        "y = scaler2.fit_transform(y)\n",
        "\n",
        "print(x.shape)\n",
        "print(y.shape)\n",
        "print(x[0:10])\n",
        "print(y[0:10])\n",
        "\n",
        "import matplotlib.pyplot as plt\n",
        "plt.figure()\n",
        "plt.plot(y)"
      ],
      "execution_count": null,
      "outputs": [
        {
          "output_type": "stream",
          "text": [
            "(12991, 36)\n",
            "(12991, 1)\n",
            "[[0.32705882 0.16172838 0.2830655  0.5275398  0.3647059  0.23827156\n",
            "  0.52163166 0.3231334  0.6976471  0.66419756 0.56613106 0.6780906\n",
            "  0.6447059  0.69382715 0.6551298  0.6425949  0.72588235 0.6925926\n",
            "  0.76019776 0.7123623  0.67529416 0.70987654 0.84054387 0.6964504\n",
            "  0.6376471  0.72839504 0.7923362  0.7356181  0.7035294  0.7530864\n",
            "  0.6415327  0.8518972  0.52352947 0.65555555 0.5957973  0.52998775]\n",
            " [0.3647059  0.23827156 0.52163166 0.3231334  0.6976471  0.66419756\n",
            "  0.56613106 0.6780906  0.6447059  0.69382715 0.6551298  0.6425949\n",
            "  0.72588235 0.6925926  0.76019776 0.7123623  0.67529416 0.70987654\n",
            "  0.84054387 0.6964504  0.6376471  0.72839504 0.7923362  0.7356181\n",
            "  0.7035294  0.7530864  0.6415327  0.8518972  0.52352947 0.65555555\n",
            "  0.5957973  0.52998775 0.6729412  0.6654321  0.4672435  0.5569155 ]\n",
            " [0.6976471  0.66419756 0.56613106 0.6780906  0.6447059  0.69382715\n",
            "  0.6551298  0.6425949  0.72588235 0.6925926  0.76019776 0.7123623\n",
            "  0.67529416 0.70987654 0.84054387 0.6964504  0.6376471  0.72839504\n",
            "  0.7923362  0.7356181  0.7035294  0.7530864  0.6415327  0.8518972\n",
            "  0.52352947 0.65555555 0.5957973  0.52998775 0.6729412  0.6654321\n",
            "  0.4672435  0.5569155  0.75411767 0.73209876 0.56736714 0.5997552 ]\n",
            " [0.6447059  0.69382715 0.6551298  0.6425949  0.72588235 0.6925926\n",
            "  0.76019776 0.7123623  0.67529416 0.70987654 0.84054387 0.6964504\n",
            "  0.6376471  0.72839504 0.7923362  0.7356181  0.7035294  0.7530864\n",
            "  0.6415327  0.8518972  0.52352947 0.65555555 0.5957973  0.52998775\n",
            "  0.6729412  0.6654321  0.4672435  0.5569155  0.75411767 0.73209876\n",
            "  0.56736714 0.5997552  0.82705885 0.8654321  0.5562422  0.56548345]\n",
            " [0.72588235 0.6925926  0.76019776 0.7123623  0.67529416 0.70987654\n",
            "  0.84054387 0.6964504  0.6376471  0.72839504 0.7923362  0.7356181\n",
            "  0.7035294  0.7530864  0.6415327  0.8518972  0.52352947 0.65555555\n",
            "  0.5957973  0.52998775 0.6729412  0.6654321  0.4672435  0.5569155\n",
            "  0.75411767 0.73209876 0.56736714 0.5997552  0.82705885 0.8654321\n",
            "  0.5562422  0.56548345 0.52235293 0.48024687 0.7713226  0.6425949 ]\n",
            " [0.67529416 0.70987654 0.84054387 0.6964504  0.6376471  0.72839504\n",
            "  0.7923362  0.7356181  0.7035294  0.7530864  0.6415327  0.8518972\n",
            "  0.52352947 0.65555555 0.5957973  0.52998775 0.6729412  0.6654321\n",
            "  0.4672435  0.5569155  0.75411767 0.73209876 0.56736714 0.5997552\n",
            "  0.82705885 0.8654321  0.5562422  0.56548345 0.52235293 0.48024687\n",
            "  0.7713226  0.6425949  0.37882355 0.4839506  0.62175524 0.4100367 ]\n",
            " [0.6376471  0.72839504 0.7923362  0.7356181  0.7035294  0.7530864\n",
            "  0.6415327  0.8518972  0.52352947 0.65555555 0.5957973  0.52998775\n",
            "  0.6729412  0.6654321  0.4672435  0.5569155  0.75411767 0.73209876\n",
            "  0.56736714 0.5997552  0.82705885 0.8654321  0.5562422  0.56548345\n",
            "  0.52235293 0.48024687 0.7713226  0.6425949  0.37882355 0.4839506\n",
            "  0.62175524 0.4100367  0.50941175 0.6296296  0.60321385 0.6107711 ]\n",
            " [0.7035294  0.7530864  0.6415327  0.8518972  0.52352947 0.65555555\n",
            "  0.5957973  0.52998775 0.6729412  0.6654321  0.4672435  0.5569155\n",
            "  0.75411767 0.73209876 0.56736714 0.5997552  0.82705885 0.8654321\n",
            "  0.5562422  0.56548345 0.52235293 0.48024687 0.7713226  0.6425949\n",
            "  0.37882355 0.4839506  0.62175524 0.4100367  0.50941175 0.6296296\n",
            "  0.60321385 0.6107711  0.56352943 0.54444444 0.605686   0.6119951 ]\n",
            " [0.52352947 0.65555555 0.5957973  0.52998775 0.6729412  0.6654321\n",
            "  0.4672435  0.5569155  0.75411767 0.73209876 0.56736714 0.5997552\n",
            "  0.82705885 0.8654321  0.5562422  0.56548345 0.52235293 0.48024687\n",
            "  0.7713226  0.6425949  0.37882355 0.4839506  0.62175524 0.4100367\n",
            "  0.50941175 0.6296296  0.60321385 0.6107711  0.56352943 0.54444444\n",
            "  0.605686   0.6119951  0.26588237 0.43086419 0.5166873  0.66952264]\n",
            " [0.6729412  0.6654321  0.4672435  0.5569155  0.75411767 0.73209876\n",
            "  0.56736714 0.5997552  0.82705885 0.8654321  0.5562422  0.56548345\n",
            "  0.52235293 0.48024687 0.7713226  0.6425949  0.37882355 0.4839506\n",
            "  0.62175524 0.4100367  0.50941175 0.6296296  0.60321385 0.6107711\n",
            "  0.56352943 0.54444444 0.605686   0.6119951  0.26588237 0.43086419\n",
            "  0.5166873  0.66952264 0.13529411 0.18271603 0.2039555  0.16523866]]\n",
            "[[0.6729412 ]\n",
            " [0.75411767]\n",
            " [0.82705885]\n",
            " [0.52235293]\n",
            " [0.37882355]\n",
            " [0.50941175]\n",
            " [0.56352943]\n",
            " [0.26588237]\n",
            " [0.13529411]\n",
            " [0.58588237]]\n"
          ],
          "name": "stdout"
        },
        {
          "output_type": "execute_result",
          "data": {
            "text/plain": [
              "[<matplotlib.lines.Line2D at 0x7fdb84082b70>]"
            ]
          },
          "metadata": {
            "tags": []
          },
          "execution_count": 17
        },
        {
          "output_type": "display_data",
          "data": {
            "image/png": "[encoded data removed]",
            "text/plain": [
              "<Figure size 432x288 with 1 Axes>"
            ]
          },
          "metadata": {
            "tags": [],
            "needs_background": "light"
          }
        }
      ]
    },
    {
      "cell_type": "code",
      "metadata": {
        "id": "mWjvMJC_k5Je",
        "colab": {
          "base_uri": "https://localhost:8080/",
          "height": 35
        },
        "outputId": "924952fa-2208-4b11-9b66-9d5c717169d9"
      },
      "source": [
        "x.shape, y.shape"
      ],
      "execution_count": null,
      "outputs": [
        {
          "output_type": "execute_result",
          "data": {
            "text/plain": [
              "((12991, 36), (12991, 1))"
            ]
          },
          "metadata": {
            "tags": []
          },
          "execution_count": 18
        }
      ]
    },
    {
      "cell_type": "markdown",
      "metadata": {
        "id": "wLehIs8eChME"
      },
      "source": [
        "# Split I"
      ]
    },
    {
      "cell_type": "code",
      "metadata": {
        "id": "581TChFpChMG",
        "colab": {
          "base_uri": "https://localhost:8080/",
          "height": 54
        },
        "outputId": "1e7b6baf-637d-4398-ca31-3e1d8680ad68"
      },
      "source": [
        "# split to train and testing\n",
        "train_size = 5196\n",
        "test_size = 2598\n",
        "test_index = train_size + test_size\n",
        "trainX, testX = np.array(x[0:train_size]), np.array(\n",
        "    x[train_size:test_index])\n",
        "trainY, testY = np.array(y[0:train_size]), np.array(\n",
        "    y[train_size:test_index])\n",
        "\n",
        "print(len(trainX))\n",
        "print(len(testX))"
      ],
      "execution_count": null,
      "outputs": [
        {
          "output_type": "stream",
          "text": [
            "5196\n",
            "2598\n"
          ],
          "name": "stdout"
        }
      ]
    },
    {
      "cell_type": "code",
      "metadata": {
        "id": "PWj7Km4yl4c6",
        "colab": {
          "base_uri": "https://localhost:8080/",
          "height": 35
        },
        "outputId": "4d29dc33-dafe-48f1-db06-db7da0f421b2"
      },
      "source": [
        "trainX.shape"
      ],
      "execution_count": null,
      "outputs": [
        {
          "output_type": "execute_result",
          "data": {
            "text/plain": [
              "(5196, 36)"
            ]
          },
          "metadata": {
            "tags": []
          },
          "execution_count": 20
        }
      ]
    },
    {
      "cell_type": "code",
      "metadata": {
        "id": "XhVEzABXChMU",
        "colab": {
          "base_uri": "https://localhost:8080/",
          "height": 917
        },
        "outputId": "2d7b8010-6123-4aa3-d877-4a6532927830"
      },
      "source": [
        "# reshape input to be [samples, time steps, features]\n",
        "trainX = np.reshape(trainX, (trainX.shape[0], 9, 4))\n",
        "testX = np.reshape(testX, (testX.shape[0], 9, 4))\n",
        "\n",
        "print(trainX)"
      ],
      "execution_count": null,
      "outputs": [
        {
          "output_type": "stream",
          "text": [
            "[[[0.32705882 0.16172838 0.2830655  0.5275398 ]\n",
            "  [0.3647059  0.23827156 0.52163166 0.3231334 ]\n",
            "  [0.6976471  0.66419756 0.56613106 0.6780906 ]\n",
            "  ...\n",
            "  [0.6376471  0.72839504 0.7923362  0.7356181 ]\n",
            "  [0.7035294  0.7530864  0.6415327  0.8518972 ]\n",
            "  [0.52352947 0.65555555 0.5957973  0.52998775]]\n",
            "\n",
            " [[0.3647059  0.23827156 0.52163166 0.3231334 ]\n",
            "  [0.6976471  0.66419756 0.56613106 0.6780906 ]\n",
            "  [0.6447059  0.69382715 0.6551298  0.6425949 ]\n",
            "  ...\n",
            "  [0.7035294  0.7530864  0.6415327  0.8518972 ]\n",
            "  [0.52352947 0.65555555 0.5957973  0.52998775]\n",
            "  [0.6729412  0.6654321  0.4672435  0.5569155 ]]\n",
            "\n",
            " [[0.6976471  0.66419756 0.56613106 0.6780906 ]\n",
            "  [0.6447059  0.69382715 0.6551298  0.6425949 ]\n",
            "  [0.72588235 0.6925926  0.76019776 0.7123623 ]\n",
            "  ...\n",
            "  [0.52352947 0.65555555 0.5957973  0.52998775]\n",
            "  [0.6729412  0.6654321  0.4672435  0.5569155 ]\n",
            "  [0.75411767 0.73209876 0.56736714 0.5997552 ]]\n",
            "\n",
            " ...\n",
            "\n",
            " [[0.5894118  0.645679   0.5241038  0.6364749 ]\n",
            "  [0.662353   0.5888889  0.5067985  0.61566705]\n",
            "  [0.38941178 0.52839506 0.43634117 0.6070992 ]\n",
            "  ...\n",
            "  [0.58117646 0.6283951  0.58343637 0.5924112 ]\n",
            "  [0.5835294  0.6135802  0.6415327  0.6842105 ]\n",
            "  [0.6070589  0.6111111  0.5339926  0.6022032 ]]\n",
            "\n",
            " [[0.662353   0.5888889  0.5067985  0.61566705]\n",
            "  [0.38941178 0.52839506 0.43634117 0.6070992 ]\n",
            "  [0.5588235  0.59876543 0.7354759  0.5091799 ]\n",
            "  ...\n",
            "  [0.5835294  0.6135802  0.6415327  0.6842105 ]\n",
            "  [0.6070589  0.6111111  0.5339926  0.6022032 ]\n",
            "  [0.70705885 0.74197525 0.69715697 0.78824973]]\n",
            "\n",
            " [[0.38941178 0.52839506 0.43634117 0.6070992 ]\n",
            "  [0.5588235  0.59876543 0.7354759  0.5091799 ]\n",
            "  [0.52000004 0.62469137 0.57601976 0.5764994 ]\n",
            "  ...\n",
            "  [0.6070589  0.6111111  0.5339926  0.6022032 ]\n",
            "  [0.70705885 0.74197525 0.69715697 0.78824973]\n",
            "  [0.65411764 0.72839504 0.7935723  0.74541   ]]]\n"
          ],
          "name": "stdout"
        }
      ]
    },
    {
      "cell_type": "code",
      "metadata": {
        "id": "0Kf04ZmkChMg"
      },
      "source": [
        "from keras.callbacks import Callback\n",
        "import keras.backend as K\n",
        "import numpy as np\n",
        "\n",
        "class SGDRScheduler(Callback):\n",
        "    '''Cosine annealing learning rate scheduler with periodic restarts.\n",
        "    # Usage\n",
        "        ```python\n",
        "            schedule = SGDRScheduler(min_lr=1e-5,\n",
        "                                     max_lr=1e-2,\n",
        "                                     steps_per_epoch=np.ceil(epoch_size/batch_size),\n",
        "                                     lr_decay=0.9,\n",
        "                                     cycle_length=5,\n",
        "                                     mult_factor=1.5)\n",
        "            model.fit(X_train, Y_train, epochs=100, callbacks=[schedule])\n",
        "        ```\n",
        "    # Arguments\n",
        "        min_lr: The lower bound of the learning rate range for the experiment.\n",
        "        max_lr: The upper bound of the learning rate range for the experiment.\n",
        "        steps_per_epoch: Number of mini-batches in the dataset. Calculated as `np.ceil(epoch_size/batch_size)`. \n",
        "        lr_decay: Reduce the max_lr after the completion of each cycle.\n",
        "                  Ex. To reduce the max_lr by 20% after each cycle, set this value to 0.8.\n",
        "        cycle_length: Initial number of epochs in a cycle.\n",
        "        mult_factor: Scale epochs_to_restart after each full cycle completion.\n",
        "    # References\n",
        "        Blog post: jeremyjordan.me/nn-learning-rate\n",
        "        Original paper: http://arxiv.org/abs/1608.03983\n",
        "    '''\n",
        "    def __init__(self,\n",
        "                 min_lr,\n",
        "                 max_lr,\n",
        "                 steps_per_epoch,\n",
        "                 lr_decay=1,\n",
        "                 cycle_length=10,\n",
        "                 mult_factor=2):\n",
        "\n",
        "        self.min_lr = min_lr\n",
        "        self.max_lr = max_lr\n",
        "        self.lr_decay = lr_decay\n",
        "\n",
        "        self.batch_since_restart = 0\n",
        "        self.next_restart = cycle_length\n",
        "\n",
        "        self.steps_per_epoch = steps_per_epoch\n",
        "\n",
        "        self.cycle_length = cycle_length\n",
        "        self.mult_factor = mult_factor\n",
        "\n",
        "        self.history = {}\n",
        "\n",
        "    def clr(self):\n",
        "        '''Calculate the learning rate.'''\n",
        "        fraction_to_restart = self.batch_since_restart / (self.steps_per_epoch * self.cycle_length)\n",
        "        lr = self.min_lr + 0.5 * (self.max_lr - self.min_lr) * (1 + np.cos(fraction_to_restart * np.pi))\n",
        "        return lr\n",
        "\n",
        "    def on_train_begin(self, logs={}):\n",
        "        '''Initialize the learning rate to the minimum value at the start of training.'''\n",
        "        logs = logs or {}\n",
        "        K.set_value(self.model.optimizer.lr, self.max_lr)\n",
        "\n",
        "    def on_batch_end(self, batch, logs={}):\n",
        "        '''Record previous batch statistics and update the learning rate.'''\n",
        "        logs = logs or {}\n",
        "        self.history.setdefault('lr', []).append(K.get_value(self.model.optimizer.lr))\n",
        "        for k, v in logs.items():\n",
        "            self.history.setdefault(k, []).append(v)\n",
        "\n",
        "        self.batch_since_restart += 1\n",
        "        K.set_value(self.model.optimizer.lr, self.clr())\n",
        "\n",
        "    def on_epoch_end(self, epoch, logs={}):\n",
        "        '''Check for end of current cycle, apply restarts when necessary.'''\n",
        "        if epoch + 1 == self.next_restart:\n",
        "            self.batch_since_restart = 0\n",
        "            self.cycle_length = np.ceil(self.cycle_length * self.mult_factor)\n",
        "            self.next_restart += self.cycle_length\n",
        "            self.max_lr *= self.lr_decay\n",
        "            self.best_weights = self.model.get_weights()\n",
        "\n",
        "    def on_train_end(self, logs={}):\n",
        "        '''Set weights to the values from the end of the most recent cycle for best performance.'''\n",
        "        self.model.set_weights(self.best_weights)"
      ],
      "execution_count": null,
      "outputs": []
    },
    {
      "cell_type": "code",
      "metadata": {
        "id": "Tcl1oNdjChMs",
        "colab": {
          "base_uri": "https://localhost:8080/",
          "height": 35
        },
        "outputId": "796b5094-06cf-41fa-8a0a-54811602028e"
      },
      "source": [
        "epoch_size=len(trainX)\n",
        "batch_size=32\n",
        "print(trainX.shape, trainY.shape)\n",
        "\n",
        "schedule = SGDRScheduler(min_lr=1e-5, max_lr=1e-2, steps_per_epoch=np.ceil(epoch_size/batch_size), lr_decay=0.9, cycle_length=5, mult_factor=1.5)"
      ],
      "execution_count": null,
      "outputs": [
        {
          "output_type": "stream",
          "text": [
            "(5196, 9, 4) (5196, 1)\n"
          ],
          "name": "stdout"
        }
      ]
    },
    {
      "cell_type": "code",
      "metadata": {
        "id": "Wx68pFyIChM4",
        "colab": {
          "base_uri": "https://localhost:8080/",
          "height": 458
        },
        "outputId": "404a5ca4-2199-46b1-acad-8bee21d2dc6e"
      },
      "source": [
        "from keras import regularizers\n",
        "\n",
        "model = Sequential()\n",
        "model.add(LSTM(12, input_shape=(trainX.shape[1], trainX.shape[2]), return_sequences=True))\n",
        "model.add(Dropout(0.3))\n",
        "model.add(LSTM(2, return_sequences=True))\n",
        "model.add(LSTM(2, return_sequences=True))\n",
        "model.add(LSTM(2, return_sequences=True))\n",
        "model.add(LSTM(2, return_sequences=False))\n",
        "model.add(Dense(trainY.shape[1]))\n",
        "model.add(Activation(\"linear\"))\n",
        "model.compile(loss='mean_squared_error', optimizer='adam', metrics=['mse'])\n",
        "\n",
        "model.summary()"
      ],
      "execution_count": null,
      "outputs": [
        {
          "output_type": "stream",
          "text": [
            "Model: \"sequential\"\n",
            "_________________________________________________________________\n",
            "Layer (type)                 Output Shape              Param #   \n",
            "=================================================================\n",
            "lstm (LSTM)                  (None, 9, 12)             816       \n",
            "_________________________________________________________________\n",
            "dropout (Dropout)            (None, 9, 12)             0         \n",
            "_________________________________________________________________\n",
            "lstm_1 (LSTM)                (None, 9, 2)              120       \n",
            "_________________________________________________________________\n",
            "lstm_2 (LSTM)                (None, 9, 2)              40        \n",
            "_________________________________________________________________\n",
            "lstm_3 (LSTM)                (None, 9, 2)              40        \n",
            "_________________________________________________________________\n",
            "lstm_4 (LSTM)                (None, 2)                 40        \n",
            "_________________________________________________________________\n",
            "dense (Dense)                (None, 1)                 3         \n",
            "_________________________________________________________________\n",
            "activation (Activation)      (None, 1)                 0         \n",
            "=================================================================\n",
            "Total params: 1,059\n",
            "Trainable params: 1,059\n",
            "Non-trainable params: 0\n",
            "_________________________________________________________________\n"
          ],
          "name": "stdout"
        }
      ]
    },
    {
      "cell_type": "code",
      "metadata": {
        "scrolled": true,
        "id": "H9QvCKtvChNH",
        "colab": {
          "base_uri": "https://localhost:8080/",
          "height": 1000
        },
        "outputId": "29160d50-11c6-471f-9e15-24fc32a1a78a"
      },
      "source": [
        "history=model.fit(trainX, trainY, epochs=100, batch_size=32, validation_split = 0.2, callbacks=[schedule])"
      ],
      "execution_count": null,
      "outputs": [
        {
          "output_type": "stream",
          "text": [
            "Epoch 1/100\n",
            "130/130 [==============================] - 4s 32ms/step - loss: 0.0293 - mse: 0.0293 - val_loss: 0.0155 - val_mse: 0.0155\n",
            "Epoch 2/100\n",
            "130/130 [==============================] - 2s 19ms/step - loss: 0.0149 - mse: 0.0149 - val_loss: 0.0165 - val_mse: 0.0165\n",
            "Epoch 3/100\n",
            "130/130 [==============================] - 2s 19ms/step - loss: 0.0145 - mse: 0.0145 - val_loss: 0.0150 - val_mse: 0.0150\n",
            "Epoch 4/100\n",
            "130/130 [==============================] - 2s 19ms/step - loss: 0.0141 - mse: 0.0141 - val_loss: 0.0150 - val_mse: 0.0150\n",
            "Epoch 5/100\n",
            "130/130 [==============================] - 2s 19ms/step - loss: 0.0139 - mse: 0.0139 - val_loss: 0.0149 - val_mse: 0.0149\n",
            "Epoch 6/100\n",
            "130/130 [==============================] - 2s 19ms/step - loss: 0.0144 - mse: 0.0144 - val_loss: 0.0150 - val_mse: 0.0150\n",
            "Epoch 7/100\n",
            "130/130 [==============================] - 2s 19ms/step - loss: 0.0138 - mse: 0.0138 - val_loss: 0.0150 - val_mse: 0.0150\n",
            "Epoch 8/100\n",
            "130/130 [==============================] - 2s 19ms/step - loss: 0.0135 - mse: 0.0135 - val_loss: 0.0142 - val_mse: 0.0142\n",
            "Epoch 9/100\n",
            "130/130 [==============================] - 2s 19ms/step - loss: 0.0137 - mse: 0.0137 - val_loss: 0.0166 - val_mse: 0.0166\n",
            "Epoch 10/100\n",
            "130/130 [==============================] - 2s 19ms/step - loss: 0.0131 - mse: 0.0131 - val_loss: 0.0133 - val_mse: 0.0133\n",
            "Epoch 11/100\n",
            "130/130 [==============================] - 3s 19ms/step - loss: 0.0128 - mse: 0.0128 - val_loss: 0.0136 - val_mse: 0.0136\n",
            "Epoch 12/100\n",
            "130/130 [==============================] - 2s 19ms/step - loss: 0.0127 - mse: 0.0127 - val_loss: 0.0126 - val_mse: 0.0126\n",
            "Epoch 13/100\n",
            "130/130 [==============================] - 2s 19ms/step - loss: 0.0122 - mse: 0.0122 - val_loss: 0.0127 - val_mse: 0.0127\n",
            "Epoch 14/100\n",
            "130/130 [==============================] - 2s 19ms/step - loss: 0.0124 - mse: 0.0124 - val_loss: 0.0113 - val_mse: 0.0113\n",
            "Epoch 15/100\n",
            "130/130 [==============================] - 2s 19ms/step - loss: 0.0115 - mse: 0.0115 - val_loss: 0.0110 - val_mse: 0.0110\n",
            "Epoch 16/100\n",
            "130/130 [==============================] - 2s 19ms/step - loss: 0.0113 - mse: 0.0113 - val_loss: 0.0110 - val_mse: 0.0110\n",
            "Epoch 17/100\n",
            "130/130 [==============================] - 2s 19ms/step - loss: 0.0112 - mse: 0.0112 - val_loss: 0.0107 - val_mse: 0.0107\n",
            "Epoch 18/100\n",
            "130/130 [==============================] - 2s 18ms/step - loss: 0.0109 - mse: 0.0109 - val_loss: 0.0132 - val_mse: 0.0132\n",
            "Epoch 19/100\n",
            "130/130 [==============================] - 2s 19ms/step - loss: 0.0111 - mse: 0.0111 - val_loss: 0.0107 - val_mse: 0.0107\n",
            "Epoch 20/100\n",
            "130/130 [==============================] - 2s 19ms/step - loss: 0.0108 - mse: 0.0108 - val_loss: 0.0110 - val_mse: 0.0110\n",
            "Epoch 21/100\n",
            "130/130 [==============================] - 3s 20ms/step - loss: 0.0107 - mse: 0.0107 - val_loss: 0.0110 - val_mse: 0.0110\n",
            "Epoch 22/100\n",
            "130/130 [==============================] - 3s 19ms/step - loss: 0.0106 - mse: 0.0106 - val_loss: 0.0105 - val_mse: 0.0105\n",
            "Epoch 23/100\n",
            "130/130 [==============================] - 2s 19ms/step - loss: 0.0106 - mse: 0.0106 - val_loss: 0.0107 - val_mse: 0.0107\n",
            "Epoch 24/100\n",
            "130/130 [==============================] - 2s 19ms/step - loss: 0.0104 - mse: 0.0104 - val_loss: 0.0106 - val_mse: 0.0106\n",
            "Epoch 25/100\n",
            "130/130 [==============================] - 2s 19ms/step - loss: 0.0105 - mse: 0.0105 - val_loss: 0.0106 - val_mse: 0.0106\n",
            "Epoch 26/100\n",
            "130/130 [==============================] - 3s 20ms/step - loss: 0.0110 - mse: 0.0110 - val_loss: 0.0109 - val_mse: 0.0109\n",
            "Epoch 27/100\n",
            "130/130 [==============================] - 2s 19ms/step - loss: 0.0108 - mse: 0.0108 - val_loss: 0.0110 - val_mse: 0.0110\n",
            "Epoch 28/100\n",
            "130/130 [==============================] - 3s 19ms/step - loss: 0.0108 - mse: 0.0108 - val_loss: 0.0114 - val_mse: 0.0114\n",
            "Epoch 29/100\n",
            "130/130 [==============================] - 2s 19ms/step - loss: 0.0107 - mse: 0.0107 - val_loss: 0.0114 - val_mse: 0.0114\n",
            "Epoch 30/100\n",
            "130/130 [==============================] - 2s 19ms/step - loss: 0.0107 - mse: 0.0107 - val_loss: 0.0107 - val_mse: 0.0107\n",
            "Epoch 31/100\n",
            "130/130 [==============================] - 2s 19ms/step - loss: 0.0108 - mse: 0.0108 - val_loss: 0.0110 - val_mse: 0.0110\n",
            "Epoch 32/100\n",
            "130/130 [==============================] - 2s 19ms/step - loss: 0.0106 - mse: 0.0106 - val_loss: 0.0108 - val_mse: 0.0108\n",
            "Epoch 33/100\n",
            "130/130 [==============================] - 2s 19ms/step - loss: 0.0105 - mse: 0.0105 - val_loss: 0.0106 - val_mse: 0.0106\n",
            "Epoch 34/100\n",
            "130/130 [==============================] - 2s 19ms/step - loss: 0.0107 - mse: 0.0107 - val_loss: 0.0109 - val_mse: 0.0109\n",
            "Epoch 35/100\n",
            "130/130 [==============================] - 2s 19ms/step - loss: 0.0108 - mse: 0.0108 - val_loss: 0.0107 - val_mse: 0.0107\n",
            "Epoch 36/100\n",
            "130/130 [==============================] - 2s 18ms/step - loss: 0.0104 - mse: 0.0104 - val_loss: 0.0106 - val_mse: 0.0106\n",
            "Epoch 37/100\n",
            "130/130 [==============================] - 2s 19ms/step - loss: 0.0104 - mse: 0.0104 - val_loss: 0.0108 - val_mse: 0.0108\n",
            "Epoch 38/100\n",
            "130/130 [==============================] - 2s 19ms/step - loss: 0.0103 - mse: 0.0103 - val_loss: 0.0110 - val_mse: 0.0110\n",
            "Epoch 39/100\n",
            "130/130 [==============================] - 2s 19ms/step - loss: 0.0105 - mse: 0.0105 - val_loss: 0.0106 - val_mse: 0.0106\n",
            "Epoch 40/100\n",
            "130/130 [==============================] - 2s 19ms/step - loss: 0.0104 - mse: 0.0104 - val_loss: 0.0111 - val_mse: 0.0111\n",
            "Epoch 41/100\n",
            "130/130 [==============================] - 2s 19ms/step - loss: 0.0103 - mse: 0.0103 - val_loss: 0.0106 - val_mse: 0.0106\n",
            "Epoch 42/100\n",
            "130/130 [==============================] - 2s 19ms/step - loss: 0.0102 - mse: 0.0102 - val_loss: 0.0107 - val_mse: 0.0107\n",
            "Epoch 43/100\n",
            "130/130 [==============================] - 2s 19ms/step - loss: 0.0102 - mse: 0.0102 - val_loss: 0.0106 - val_mse: 0.0106\n",
            "Epoch 44/100\n",
            "130/130 [==============================] - 2s 19ms/step - loss: 0.0107 - mse: 0.0107 - val_loss: 0.0105 - val_mse: 0.0105\n",
            "Epoch 45/100\n",
            "130/130 [==============================] - 2s 18ms/step - loss: 0.0107 - mse: 0.0107 - val_loss: 0.0110 - val_mse: 0.0110\n",
            "Epoch 46/100\n",
            "130/130 [==============================] - 2s 18ms/step - loss: 0.0109 - mse: 0.0109 - val_loss: 0.0111 - val_mse: 0.0111\n",
            "Epoch 47/100\n",
            "130/130 [==============================] - 3s 20ms/step - loss: 0.0106 - mse: 0.0106 - val_loss: 0.0109 - val_mse: 0.0109\n",
            "Epoch 48/100\n",
            "130/130 [==============================] - 3s 21ms/step - loss: 0.0104 - mse: 0.0104 - val_loss: 0.0107 - val_mse: 0.0107\n",
            "Epoch 49/100\n",
            "130/130 [==============================] - 3s 21ms/step - loss: 0.0105 - mse: 0.0105 - val_loss: 0.0108 - val_mse: 0.0108\n",
            "Epoch 50/100\n",
            "130/130 [==============================] - 3s 22ms/step - loss: 0.0106 - mse: 0.0106 - val_loss: 0.0109 - val_mse: 0.0109\n",
            "Epoch 51/100\n",
            "130/130 [==============================] - 3s 20ms/step - loss: 0.0105 - mse: 0.0105 - val_loss: 0.0111 - val_mse: 0.0111\n",
            "Epoch 52/100\n",
            "130/130 [==============================] - 2s 19ms/step - loss: 0.0105 - mse: 0.0105 - val_loss: 0.0110 - val_mse: 0.0110\n",
            "Epoch 53/100\n",
            "130/130 [==============================] - 2s 18ms/step - loss: 0.0105 - mse: 0.0105 - val_loss: 0.0106 - val_mse: 0.0106\n",
            "Epoch 54/100\n",
            "130/130 [==============================] - 3s 19ms/step - loss: 0.0103 - mse: 0.0103 - val_loss: 0.0107 - val_mse: 0.0107\n",
            "Epoch 55/100\n",
            "130/130 [==============================] - 3s 19ms/step - loss: 0.0105 - mse: 0.0105 - val_loss: 0.0107 - val_mse: 0.0107\n",
            "Epoch 56/100\n",
            "130/130 [==============================] - 2s 19ms/step - loss: 0.0103 - mse: 0.0103 - val_loss: 0.0116 - val_mse: 0.0116\n",
            "Epoch 57/100\n",
            "130/130 [==============================] - 2s 19ms/step - loss: 0.0104 - mse: 0.0104 - val_loss: 0.0112 - val_mse: 0.0112\n",
            "Epoch 58/100\n",
            "130/130 [==============================] - 2s 19ms/step - loss: 0.0104 - mse: 0.0104 - val_loss: 0.0107 - val_mse: 0.0107\n",
            "Epoch 59/100\n",
            "130/130 [==============================] - 2s 19ms/step - loss: 0.0104 - mse: 0.0104 - val_loss: 0.0115 - val_mse: 0.0115\n",
            "Epoch 60/100\n",
            "130/130 [==============================] - 2s 19ms/step - loss: 0.0101 - mse: 0.0101 - val_loss: 0.0109 - val_mse: 0.0109\n",
            "Epoch 61/100\n",
            "130/130 [==============================] - 3s 19ms/step - loss: 0.0102 - mse: 0.0102 - val_loss: 0.0107 - val_mse: 0.0107\n",
            "Epoch 62/100\n",
            "130/130 [==============================] - 3s 20ms/step - loss: 0.0102 - mse: 0.0102 - val_loss: 0.0107 - val_mse: 0.0107\n",
            "Epoch 63/100\n",
            "130/130 [==============================] - 2s 19ms/step - loss: 0.0102 - mse: 0.0102 - val_loss: 0.0107 - val_mse: 0.0107\n",
            "Epoch 64/100\n",
            "130/130 [==============================] - 2s 19ms/step - loss: 0.0100 - mse: 0.0100 - val_loss: 0.0108 - val_mse: 0.0108\n",
            "Epoch 65/100\n",
            "130/130 [==============================] - 2s 19ms/step - loss: 0.0100 - mse: 0.0100 - val_loss: 0.0108 - val_mse: 0.0108\n",
            "Epoch 66/100\n",
            "130/130 [==============================] - 2s 19ms/step - loss: 0.0100 - mse: 0.0100 - val_loss: 0.0109 - val_mse: 0.0109\n",
            "Epoch 67/100\n",
            "130/130 [==============================] - 2s 19ms/step - loss: 0.0102 - mse: 0.0102 - val_loss: 0.0113 - val_mse: 0.0113\n",
            "Epoch 68/100\n",
            "130/130 [==============================] - 2s 19ms/step - loss: 0.0100 - mse: 0.0100 - val_loss: 0.0108 - val_mse: 0.0108\n",
            "Epoch 69/100\n",
            "130/130 [==============================] - 2s 19ms/step - loss: 0.0100 - mse: 0.0100 - val_loss: 0.0108 - val_mse: 0.0108\n",
            "Epoch 70/100\n",
            "130/130 [==============================] - 2s 19ms/step - loss: 0.0099 - mse: 0.0099 - val_loss: 0.0108 - val_mse: 0.0108\n",
            "Epoch 71/100\n",
            "130/130 [==============================] - 2s 19ms/step - loss: 0.0105 - mse: 0.0105 - val_loss: 0.0108 - val_mse: 0.0108\n",
            "Epoch 72/100\n",
            "130/130 [==============================] - 3s 19ms/step - loss: 0.0106 - mse: 0.0106 - val_loss: 0.0107 - val_mse: 0.0107\n",
            "Epoch 73/100\n",
            "130/130 [==============================] - 2s 19ms/step - loss: 0.0105 - mse: 0.0105 - val_loss: 0.0108 - val_mse: 0.0108\n",
            "Epoch 74/100\n",
            "130/130 [==============================] - 2s 19ms/step - loss: 0.0105 - mse: 0.0105 - val_loss: 0.0113 - val_mse: 0.0113\n",
            "Epoch 75/100\n",
            "130/130 [==============================] - 2s 19ms/step - loss: 0.0103 - mse: 0.0103 - val_loss: 0.0111 - val_mse: 0.0111\n",
            "Epoch 76/100\n",
            "130/130 [==============================] - 2s 19ms/step - loss: 0.0105 - mse: 0.0105 - val_loss: 0.0111 - val_mse: 0.0111\n",
            "Epoch 77/100\n",
            "130/130 [==============================] - 3s 19ms/step - loss: 0.0102 - mse: 0.0102 - val_loss: 0.0111 - val_mse: 0.0111\n",
            "Epoch 78/100\n",
            "130/130 [==============================] - 2s 19ms/step - loss: 0.0103 - mse: 0.0103 - val_loss: 0.0107 - val_mse: 0.0107\n",
            "Epoch 79/100\n",
            "130/130 [==============================] - 2s 19ms/step - loss: 0.0102 - mse: 0.0102 - val_loss: 0.0110 - val_mse: 0.0110\n",
            "Epoch 80/100\n",
            "130/130 [==============================] - 2s 19ms/step - loss: 0.0104 - mse: 0.0104 - val_loss: 0.0113 - val_mse: 0.0113\n",
            "Epoch 81/100\n",
            "130/130 [==============================] - 3s 20ms/step - loss: 0.0102 - mse: 0.0102 - val_loss: 0.0115 - val_mse: 0.0115\n",
            "Epoch 82/100\n",
            "130/130 [==============================] - 2s 19ms/step - loss: 0.0101 - mse: 0.0101 - val_loss: 0.0109 - val_mse: 0.0109\n",
            "Epoch 83/100\n",
            "130/130 [==============================] - 2s 19ms/step - loss: 0.0102 - mse: 0.0102 - val_loss: 0.0118 - val_mse: 0.0118\n",
            "Epoch 84/100\n",
            "130/130 [==============================] - 3s 19ms/step - loss: 0.0102 - mse: 0.0102 - val_loss: 0.0111 - val_mse: 0.0111\n",
            "Epoch 85/100\n",
            "130/130 [==============================] - 2s 19ms/step - loss: 0.0100 - mse: 0.0100 - val_loss: 0.0108 - val_mse: 0.0108\n",
            "Epoch 86/100\n",
            "130/130 [==============================] - 2s 19ms/step - loss: 0.0102 - mse: 0.0102 - val_loss: 0.0109 - val_mse: 0.0109\n",
            "Epoch 87/100\n",
            "130/130 [==============================] - 2s 19ms/step - loss: 0.0100 - mse: 0.0100 - val_loss: 0.0111 - val_mse: 0.0111\n",
            "Epoch 88/100\n",
            "130/130 [==============================] - 2s 19ms/step - loss: 0.0102 - mse: 0.0102 - val_loss: 0.0122 - val_mse: 0.0122\n",
            "Epoch 89/100\n",
            "130/130 [==============================] - 2s 19ms/step - loss: 0.0099 - mse: 0.0099 - val_loss: 0.0108 - val_mse: 0.0108\n",
            "Epoch 90/100\n",
            "130/130 [==============================] - 2s 19ms/step - loss: 0.0099 - mse: 0.0099 - val_loss: 0.0111 - val_mse: 0.0111\n",
            "Epoch 91/100\n",
            "130/130 [==============================] - 2s 19ms/step - loss: 0.0099 - mse: 0.0099 - val_loss: 0.0111 - val_mse: 0.0111\n",
            "Epoch 92/100\n",
            "130/130 [==============================] - 2s 19ms/step - loss: 0.0099 - mse: 0.0099 - val_loss: 0.0109 - val_mse: 0.0109\n",
            "Epoch 93/100\n",
            "130/130 [==============================] - 2s 19ms/step - loss: 0.0101 - mse: 0.0101 - val_loss: 0.0110 - val_mse: 0.0110\n",
            "Epoch 94/100\n",
            "130/130 [==============================] - 2s 19ms/step - loss: 0.0099 - mse: 0.0099 - val_loss: 0.0109 - val_mse: 0.0109\n",
            "Epoch 95/100\n",
            "130/130 [==============================] - 3s 19ms/step - loss: 0.0099 - mse: 0.0099 - val_loss: 0.0113 - val_mse: 0.0113\n",
            "Epoch 96/100\n",
            "130/130 [==============================] - 3s 20ms/step - loss: 0.0100 - mse: 0.0100 - val_loss: 0.0113 - val_mse: 0.0113\n",
            "Epoch 97/100\n",
            "130/130 [==============================] - 3s 22ms/step - loss: 0.0099 - mse: 0.0099 - val_loss: 0.0110 - val_mse: 0.0110\n",
            "Epoch 98/100\n",
            "130/130 [==============================] - 3s 21ms/step - loss: 0.0096 - mse: 0.0096 - val_loss: 0.0111 - val_mse: 0.0111\n",
            "Epoch 99/100\n",
            "130/130 [==============================] - 2s 19ms/step - loss: 0.0098 - mse: 0.0098 - val_loss: 0.0112 - val_mse: 0.0112\n",
            "Epoch 100/100\n",
            "130/130 [==============================] - 2s 19ms/step - loss: 0.0099 - mse: 0.0099 - val_loss: 0.0112 - val_mse: 0.0112\n"
          ],
          "name": "stdout"
        }
      ]
    },
    {
      "cell_type": "code",
      "metadata": {
        "id": "fgrdCXClChNS",
        "colab": {
          "base_uri": "https://localhost:8080/",
          "height": 295
        },
        "outputId": "14791ec2-52ed-45cc-d9a5-315915cfb7ec"
      },
      "source": [
        "# summarize history for loss\n",
        "plt.plot(history.history['loss'])\n",
        "plt.plot(history.history['val_loss'])\n",
        "plt.title('model loss')\n",
        "plt.ylabel('loss')\n",
        "plt.xlabel('epoch')\n",
        "plt.legend(['train', 'validation'], loc='upper left')\n",
        "plt.show()"
      ],
      "execution_count": null,
      "outputs": [
        {
          "output_type": "display_data",
          "data": {
            "image/png": "[encoded data removed]",
            "text/plain": [
              "<Figure size 432x288 with 1 Axes>"
            ]
          },
          "metadata": {
            "tags": [],
            "needs_background": "light"
          }
        }
      ]
    },
    {
      "cell_type": "code",
      "metadata": {
        "id": "NZKDPs06ChNf"
      },
      "source": [
        "from keras.models import load_model\n",
        "\n",
        "model.save('model_10rnnadam.h5')  # creates a HDF5 file 'my_model.h5'\n",
        "#del model  # deletes the existing model\n",
        "\n",
        "# returns a compiled model\n",
        "# identical to the previous one\n",
        "#model = load_model('my_model.h5')"
      ],
      "execution_count": null,
      "outputs": []
    },
    {
      "cell_type": "code",
      "metadata": {
        "id": "f44Xhc0SChNt"
      },
      "source": [
        "trainPredict1 = model.predict(trainX)\n",
        "testPredict1 = model.predict(testX)\n",
        "\n",
        " "
      ],
      "execution_count": null,
      "outputs": []
    },
    {
      "cell_type": "code",
      "metadata": {
        "id": "JaIHBE7PChN7",
        "colab": {
          "base_uri": "https://localhost:8080/",
          "height": 265
        },
        "outputId": "5c3c5af3-c12e-4ca7-b84e-e9ad989e6dd0"
      },
      "source": [
        "plt.plot(trainY)\n",
        "plt.plot(trainPredict1)\n",
        "plt.show()"
      ],
      "execution_count": null,
      "outputs": [
        {
          "output_type": "display_data",
          "data": {
            "image/png": "[encoded data removed]",
            "text/plain": [
              "<Figure size 432x288 with 1 Axes>"
            ]
          },
          "metadata": {
            "tags": [],
            "needs_background": "light"
          }
        }
      ]
    },
    {
      "cell_type": "code",
      "metadata": {
        "id": "Sgm52iBTChOL",
        "colab": {
          "base_uri": "https://localhost:8080/",
          "height": 265
        },
        "outputId": "2cd85388-9b77-4aeb-ef51-8b72ab02a334"
      },
      "source": [
        "plt.plot(testY)\n",
        "plt.plot(testPredict1)\n",
        "plt.show()"
      ],
      "execution_count": null,
      "outputs": [
        {
          "output_type": "display_data",
          "data": {
            "image/png": "[encoded data removed]",
            "text/plain": [
              "<Figure size 432x288 with 1 Axes>"
            ]
          },
          "metadata": {
            "tags": [],
            "needs_background": "light"
          }
        }
      ]
    },
    {
      "cell_type": "code",
      "metadata": {
        "id": "8HSI8aP5ChOV",
        "colab": {
          "base_uri": "https://localhost:8080/",
          "height": 72
        },
        "outputId": "e4f695a9-d4bc-4ad4-c331-0ffea623d79c"
      },
      "source": [
        "from sklearn.metrics import mean_squared_error\n",
        "from math import sqrt\n",
        "MSE1=mean_squared_error(testY, testPredict1)\n",
        "print(\"MSE:\",MSE1)\n",
        "\n",
        "RMSE1=sqrt(MSE1)\n",
        "print(\"RMSE:\",RMSE1)\n",
        "\n",
        "from sklearn.metrics import r2_score\n",
        "R2_score1=r2_score(testY, testPredict1)\n",
        "print(\"R2 score:\", R2_score1)"
      ],
      "execution_count": null,
      "outputs": [
        {
          "output_type": "stream",
          "text": [
            "MSE: 0.008329601\n",
            "RMSE: 0.09126664794475293\n",
            "R2 score: 0.7020247980041953\n"
          ],
          "name": "stdout"
        }
      ]
    },
    {
      "cell_type": "markdown",
      "metadata": {
        "id": "fKx4fRosChOi"
      },
      "source": [
        "# Split II"
      ]
    },
    {
      "cell_type": "code",
      "metadata": {
        "id": "c2YAt0qpChOl",
        "colab": {
          "base_uri": "https://localhost:8080/",
          "height": 54
        },
        "outputId": "bf5288e8-f0d5-4335-a7c3-4aab58e0cd41"
      },
      "source": [
        "# split to train and testing\n",
        "trainX2, testX2 = np.array(x[2598:7794]), np.array(\n",
        "    x[7794:10392])\n",
        "trainY2, testY2 = np.array(y[2598:7794]), np.array(\n",
        "    y[7794:10392])\n",
        "\n",
        "print(len(trainX2))\n",
        "print(len(testX2))"
      ],
      "execution_count": null,
      "outputs": [
        {
          "output_type": "stream",
          "text": [
            "5196\n",
            "2598\n"
          ],
          "name": "stdout"
        }
      ]
    },
    {
      "cell_type": "code",
      "metadata": {
        "id": "XSxyj5ooChO4",
        "colab": {
          "base_uri": "https://localhost:8080/",
          "height": 917
        },
        "outputId": "86275ecf-40f6-4ece-98bf-4a2f78394a1b"
      },
      "source": [
        "# reshape input to be [samples, time steps, features]\n",
        "trainX2 = np.reshape(trainX2, (trainX2.shape[0], 9, 4))\n",
        "testX2 = np.reshape(testX2, (testX2.shape[0], 9, 4))\n",
        "\n",
        "print(trainX2)"
      ],
      "execution_count": null,
      "outputs": [
        {
          "output_type": "stream",
          "text": [
            "[[[0.3635294  0.4716049  0.4437577  0.4124847 ]\n",
            "  [0.36235294 0.47407407 0.4239802  0.3390453 ]\n",
            "  [0.43294117 0.6259259  0.6081582  0.7356181 ]\n",
            "  ...\n",
            "  [0.31764704 0.43580246 0.46106303 0.5850673 ]\n",
            "  [0.25411764 0.15185183 0.15822002 0.14443085]\n",
            "  [0.20235294 0.3691358  0.21137205 0.34638923]]\n",
            "\n",
            " [[0.36235294 0.47407407 0.4239802  0.3390453 ]\n",
            "  [0.43294117 0.6259259  0.6081582  0.7356181 ]\n",
            "  [0.31882352 0.5111111  0.28182942 0.41126072]\n",
            "  ...\n",
            "  [0.25411764 0.15185183 0.15822002 0.14443085]\n",
            "  [0.20235294 0.3691358  0.21137205 0.34638923]\n",
            "  [0.33294117 0.28148147 0.39802226 0.3512852 ]]\n",
            "\n",
            " [[0.43294117 0.6259259  0.6081582  0.7356181 ]\n",
            "  [0.31882352 0.5111111  0.28182942 0.41126072]\n",
            "  [0.22588234 0.14074072 0.4054388  0.4773562 ]\n",
            "  ...\n",
            "  [0.20235294 0.3691358  0.21137205 0.34638923]\n",
            "  [0.33294117 0.28148147 0.39802226 0.3512852 ]\n",
            "  [0.32705882 0.35925922 0.06922126 0.4651163 ]]\n",
            "\n",
            " ...\n",
            "\n",
            " [[0.5658824  0.6234568  0.6229913  0.60954714]\n",
            "  [0.5682353  0.61604935 0.6093943  0.5777234 ]\n",
            "  [0.55529416 0.6259259  0.5957973  0.5177479 ]\n",
            "  ...\n",
            "  [0.59176475 0.61975306 0.6155748  0.60465115]\n",
            "  [0.59176475 0.6074074  0.6081582  0.60465115]\n",
            "  [0.58588237 0.59876543 0.6155748  0.55813956]]\n",
            "\n",
            " [[0.5682353  0.61604935 0.6093943  0.5777234 ]\n",
            "  [0.55529416 0.6259259  0.5957973  0.5177479 ]\n",
            "  [0.52000004 0.54444444 0.6044499  0.54834765]\n",
            "  ...\n",
            "  [0.59176475 0.6074074  0.6081582  0.60465115]\n",
            "  [0.58588237 0.59876543 0.6155748  0.55813956]\n",
            "  [0.6011765  0.6098766  0.6143387  0.59118724]]\n",
            "\n",
            " [[0.55529416 0.6259259  0.5957973  0.5177479 ]\n",
            "  [0.52000004 0.54444444 0.6044499  0.54834765]\n",
            "  [0.5258824  0.5765432  0.5611866  0.5813953 ]\n",
            "  ...\n",
            "  [0.58588237 0.59876543 0.6155748  0.55813956]\n",
            "  [0.6011765  0.6098766  0.6143387  0.59118724]\n",
            "  [0.54352945 0.5555556  0.57601976 0.55446756]]]\n"
          ],
          "name": "stdout"
        }
      ]
    },
    {
      "cell_type": "code",
      "metadata": {
        "id": "RLqnS_FSChPI",
        "colab": {
          "base_uri": "https://localhost:8080/",
          "height": 458
        },
        "outputId": "2d11bbb8-07a8-4230-8f11-db5121bdc66b"
      },
      "source": [
        "from keras import regularizers\n",
        "\n",
        "model = load_model('model_10rnnadam.h5')\n",
        "\n",
        "model.summary()"
      ],
      "execution_count": null,
      "outputs": [
        {
          "output_type": "stream",
          "text": [
            "Model: \"sequential\"\n",
            "_________________________________________________________________\n",
            "Layer (type)                 Output Shape              Param #   \n",
            "=================================================================\n",
            "lstm (LSTM)                  (None, 9, 12)             816       \n",
            "_________________________________________________________________\n",
            "dropout (Dropout)            (None, 9, 12)             0         \n",
            "_________________________________________________________________\n",
            "lstm_1 (LSTM)                (None, 9, 2)              120       \n",
            "_________________________________________________________________\n",
            "lstm_2 (LSTM)                (None, 9, 2)              40        \n",
            "_________________________________________________________________\n",
            "lstm_3 (LSTM)                (None, 9, 2)              40        \n",
            "_________________________________________________________________\n",
            "lstm_4 (LSTM)                (None, 2)                 40        \n",
            "_________________________________________________________________\n",
            "dense (Dense)                (None, 1)                 3         \n",
            "_________________________________________________________________\n",
            "activation (Activation)      (None, 1)                 0         \n",
            "=================================================================\n",
            "Total params: 1,059\n",
            "Trainable params: 1,059\n",
            "Non-trainable params: 0\n",
            "_________________________________________________________________\n"
          ],
          "name": "stdout"
        }
      ]
    },
    {
      "cell_type": "code",
      "metadata": {
        "scrolled": true,
        "id": "nwFhOC_SChPR",
        "colab": {
          "base_uri": "https://localhost:8080/",
          "height": 1000
        },
        "outputId": "a39681cb-2c05-4bee-e59a-2358c2591652"
      },
      "source": [
        "print(trainX2.shape, trainY2.shape)\n",
        "history2=model.fit(trainX2, trainY2, epochs=100, batch_size=32, validation_split = 0.2, callbacks=[schedule])"
      ],
      "execution_count": null,
      "outputs": [
        {
          "output_type": "stream",
          "text": [
            "(5196, 9, 4) (5196, 1)\n",
            "Epoch 1/100\n",
            "130/130 [==============================] - 4s 31ms/step - loss: 0.0096 - mean_squared_error: 0.0096 - val_loss: 0.0094 - val_mean_squared_error: 0.0094\n",
            "Epoch 2/100\n",
            "130/130 [==============================] - 2s 19ms/step - loss: 0.0094 - mean_squared_error: 0.0094 - val_loss: 0.0093 - val_mean_squared_error: 0.0093\n",
            "Epoch 3/100\n",
            "130/130 [==============================] - 2s 19ms/step - loss: 0.0094 - mean_squared_error: 0.0094 - val_loss: 0.0094 - val_mean_squared_error: 0.0094\n",
            "Epoch 4/100\n",
            "130/130 [==============================] - 2s 19ms/step - loss: 0.0094 - mean_squared_error: 0.0094 - val_loss: 0.0093 - val_mean_squared_error: 0.0093\n",
            "Epoch 5/100\n",
            "130/130 [==============================] - 3s 19ms/step - loss: 0.0095 - mean_squared_error: 0.0095 - val_loss: 0.0093 - val_mean_squared_error: 0.0093\n",
            "Epoch 6/100\n",
            "130/130 [==============================] - 2s 19ms/step - loss: 0.0094 - mean_squared_error: 0.0094 - val_loss: 0.0092 - val_mean_squared_error: 0.0092\n",
            "Epoch 7/100\n",
            "130/130 [==============================] - 2s 19ms/step - loss: 0.0094 - mean_squared_error: 0.0094 - val_loss: 0.0094 - val_mean_squared_error: 0.0094\n",
            "Epoch 8/100\n",
            "130/130 [==============================] - 3s 19ms/step - loss: 0.0093 - mean_squared_error: 0.0093 - val_loss: 0.0093 - val_mean_squared_error: 0.0093\n",
            "Epoch 9/100\n",
            "130/130 [==============================] - 2s 19ms/step - loss: 0.0093 - mean_squared_error: 0.0093 - val_loss: 0.0093 - val_mean_squared_error: 0.0093\n",
            "Epoch 10/100\n",
            "130/130 [==============================] - 3s 19ms/step - loss: 0.0093 - mean_squared_error: 0.0093 - val_loss: 0.0092 - val_mean_squared_error: 0.0092\n",
            "Epoch 11/100\n",
            "130/130 [==============================] - 3s 19ms/step - loss: 0.0092 - mean_squared_error: 0.0092 - val_loss: 0.0092 - val_mean_squared_error: 0.0092\n",
            "Epoch 12/100\n",
            "130/130 [==============================] - 2s 19ms/step - loss: 0.0093 - mean_squared_error: 0.0093 - val_loss: 0.0093 - val_mean_squared_error: 0.0093\n",
            "Epoch 13/100\n",
            "130/130 [==============================] - 2s 19ms/step - loss: 0.0092 - mean_squared_error: 0.0092 - val_loss: 0.0093 - val_mean_squared_error: 0.0093\n",
            "Epoch 14/100\n",
            "130/130 [==============================] - 2s 19ms/step - loss: 0.0092 - mean_squared_error: 0.0092 - val_loss: 0.0093 - val_mean_squared_error: 0.0093\n",
            "Epoch 15/100\n",
            "130/130 [==============================] - 2s 19ms/step - loss: 0.0091 - mean_squared_error: 0.0091 - val_loss: 0.0093 - val_mean_squared_error: 0.0093\n",
            "Epoch 16/100\n",
            "130/130 [==============================] - 2s 19ms/step - loss: 0.0092 - mean_squared_error: 0.0092 - val_loss: 0.0092 - val_mean_squared_error: 0.0092\n",
            "Epoch 17/100\n",
            "130/130 [==============================] - 2s 19ms/step - loss: 0.0091 - mean_squared_error: 0.0091 - val_loss: 0.0092 - val_mean_squared_error: 0.0092\n",
            "Epoch 18/100\n",
            "130/130 [==============================] - 3s 19ms/step - loss: 0.0092 - mean_squared_error: 0.0092 - val_loss: 0.0093 - val_mean_squared_error: 0.0093\n",
            "Epoch 19/100\n",
            "130/130 [==============================] - 3s 20ms/step - loss: 0.0092 - mean_squared_error: 0.0092 - val_loss: 0.0092 - val_mean_squared_error: 0.0092\n",
            "Epoch 20/100\n",
            "130/130 [==============================] - 2s 19ms/step - loss: 0.0091 - mean_squared_error: 0.0091 - val_loss: 0.0092 - val_mean_squared_error: 0.0092\n",
            "Epoch 21/100\n",
            "130/130 [==============================] - 2s 19ms/step - loss: 0.0092 - mean_squared_error: 0.0092 - val_loss: 0.0092 - val_mean_squared_error: 0.0092\n",
            "Epoch 22/100\n",
            "130/130 [==============================] - 2s 19ms/step - loss: 0.0092 - mean_squared_error: 0.0092 - val_loss: 0.0092 - val_mean_squared_error: 0.0092\n",
            "Epoch 23/100\n",
            "130/130 [==============================] - 2s 19ms/step - loss: 0.0092 - mean_squared_error: 0.0092 - val_loss: 0.0092 - val_mean_squared_error: 0.0092\n",
            "Epoch 24/100\n",
            "130/130 [==============================] - 2s 18ms/step - loss: 0.0091 - mean_squared_error: 0.0091 - val_loss: 0.0092 - val_mean_squared_error: 0.0092\n",
            "Epoch 25/100\n",
            "130/130 [==============================] - 2s 19ms/step - loss: 0.0091 - mean_squared_error: 0.0091 - val_loss: 0.0092 - val_mean_squared_error: 0.0092\n",
            "Epoch 26/100\n",
            "130/130 [==============================] - 2s 19ms/step - loss: 0.0092 - mean_squared_error: 0.0092 - val_loss: 0.0092 - val_mean_squared_error: 0.0092\n",
            "Epoch 27/100\n",
            "130/130 [==============================] - 2s 19ms/step - loss: 0.0091 - mean_squared_error: 0.0091 - val_loss: 0.0092 - val_mean_squared_error: 0.0092\n",
            "Epoch 28/100\n",
            "130/130 [==============================] - 2s 19ms/step - loss: 0.0093 - mean_squared_error: 0.0093 - val_loss: 0.0093 - val_mean_squared_error: 0.0093\n",
            "Epoch 29/100\n",
            "130/130 [==============================] - 3s 19ms/step - loss: 0.0091 - mean_squared_error: 0.0091 - val_loss: 0.0092 - val_mean_squared_error: 0.0092\n",
            "Epoch 30/100\n",
            "130/130 [==============================] - 2s 19ms/step - loss: 0.0092 - mean_squared_error: 0.0092 - val_loss: 0.0092 - val_mean_squared_error: 0.0092\n",
            "Epoch 31/100\n",
            "130/130 [==============================] - 3s 19ms/step - loss: 0.0091 - mean_squared_error: 0.0091 - val_loss: 0.0093 - val_mean_squared_error: 0.0093\n",
            "Epoch 32/100\n",
            "130/130 [==============================] - 2s 19ms/step - loss: 0.0092 - mean_squared_error: 0.0092 - val_loss: 0.0092 - val_mean_squared_error: 0.0092\n",
            "Epoch 33/100\n",
            "130/130 [==============================] - 3s 20ms/step - loss: 0.0093 - mean_squared_error: 0.0093 - val_loss: 0.0092 - val_mean_squared_error: 0.0092\n",
            "Epoch 34/100\n",
            "130/130 [==============================] - 2s 19ms/step - loss: 0.0093 - mean_squared_error: 0.0093 - val_loss: 0.0092 - val_mean_squared_error: 0.0092\n",
            "Epoch 35/100\n",
            "130/130 [==============================] - 2s 19ms/step - loss: 0.0091 - mean_squared_error: 0.0091 - val_loss: 0.0092 - val_mean_squared_error: 0.0092\n",
            "Epoch 36/100\n",
            "130/130 [==============================] - 3s 19ms/step - loss: 0.0092 - mean_squared_error: 0.0092 - val_loss: 0.0093 - val_mean_squared_error: 0.0093\n",
            "Epoch 37/100\n",
            "130/130 [==============================] - 2s 19ms/step - loss: 0.0093 - mean_squared_error: 0.0093 - val_loss: 0.0092 - val_mean_squared_error: 0.0092\n",
            "Epoch 38/100\n",
            "130/130 [==============================] - 3s 20ms/step - loss: 0.0092 - mean_squared_error: 0.0092 - val_loss: 0.0094 - val_mean_squared_error: 0.0094\n",
            "Epoch 39/100\n",
            "130/130 [==============================] - 3s 20ms/step - loss: 0.0093 - mean_squared_error: 0.0093 - val_loss: 0.0093 - val_mean_squared_error: 0.0093\n",
            "Epoch 40/100\n",
            "130/130 [==============================] - 3s 19ms/step - loss: 0.0092 - mean_squared_error: 0.0092 - val_loss: 0.0093 - val_mean_squared_error: 0.0093\n",
            "Epoch 41/100\n",
            "130/130 [==============================] - 2s 19ms/step - loss: 0.0092 - mean_squared_error: 0.0092 - val_loss: 0.0095 - val_mean_squared_error: 0.0095\n",
            "Epoch 42/100\n",
            "130/130 [==============================] - 2s 19ms/step - loss: 0.0093 - mean_squared_error: 0.0093 - val_loss: 0.0094 - val_mean_squared_error: 0.0094\n",
            "Epoch 43/100\n",
            "130/130 [==============================] - 2s 19ms/step - loss: 0.0093 - mean_squared_error: 0.0093 - val_loss: 0.0100 - val_mean_squared_error: 0.0100\n",
            "Epoch 44/100\n",
            "130/130 [==============================] - 3s 19ms/step - loss: 0.0093 - mean_squared_error: 0.0093 - val_loss: 0.0094 - val_mean_squared_error: 0.0094\n",
            "Epoch 45/100\n",
            "130/130 [==============================] - 3s 19ms/step - loss: 0.0094 - mean_squared_error: 0.0094 - val_loss: 0.0096 - val_mean_squared_error: 0.0096\n",
            "Epoch 46/100\n",
            "130/130 [==============================] - 3s 20ms/step - loss: 0.0093 - mean_squared_error: 0.0093 - val_loss: 0.0093 - val_mean_squared_error: 0.0093\n",
            "Epoch 47/100\n",
            "130/130 [==============================] - 2s 19ms/step - loss: 0.0092 - mean_squared_error: 0.0092 - val_loss: 0.0094 - val_mean_squared_error: 0.0094\n",
            "Epoch 48/100\n",
            "130/130 [==============================] - 3s 19ms/step - loss: 0.0093 - mean_squared_error: 0.0093 - val_loss: 0.0094 - val_mean_squared_error: 0.0094\n",
            "Epoch 49/100\n",
            "130/130 [==============================] - 2s 19ms/step - loss: 0.0093 - mean_squared_error: 0.0093 - val_loss: 0.0095 - val_mean_squared_error: 0.0095\n",
            "Epoch 50/100\n",
            "130/130 [==============================] - 3s 19ms/step - loss: 0.0094 - mean_squared_error: 0.0094 - val_loss: 0.0094 - val_mean_squared_error: 0.0094\n",
            "Epoch 51/100\n",
            "130/130 [==============================] - 3s 20ms/step - loss: 0.0093 - mean_squared_error: 0.0093 - val_loss: 0.0096 - val_mean_squared_error: 0.0096\n",
            "Epoch 52/100\n",
            "130/130 [==============================] - 3s 19ms/step - loss: 0.0093 - mean_squared_error: 0.0093 - val_loss: 0.0092 - val_mean_squared_error: 0.0092\n",
            "Epoch 53/100\n",
            "130/130 [==============================] - 3s 19ms/step - loss: 0.0095 - mean_squared_error: 0.0095 - val_loss: 0.0100 - val_mean_squared_error: 0.0100\n",
            "Epoch 54/100\n",
            "130/130 [==============================] - 2s 19ms/step - loss: 0.0094 - mean_squared_error: 0.0094 - val_loss: 0.0096 - val_mean_squared_error: 0.0096\n",
            "Epoch 55/100\n",
            "130/130 [==============================] - 3s 19ms/step - loss: 0.0093 - mean_squared_error: 0.0093 - val_loss: 0.0092 - val_mean_squared_error: 0.0092\n",
            "Epoch 56/100\n",
            "130/130 [==============================] - 2s 19ms/step - loss: 0.0094 - mean_squared_error: 0.0094 - val_loss: 0.0094 - val_mean_squared_error: 0.0094\n",
            "Epoch 57/100\n",
            "130/130 [==============================] - 2s 19ms/step - loss: 0.0093 - mean_squared_error: 0.0093 - val_loss: 0.0095 - val_mean_squared_error: 0.0095\n",
            "Epoch 58/100\n",
            "130/130 [==============================] - 2s 19ms/step - loss: 0.0095 - mean_squared_error: 0.0095 - val_loss: 0.0093 - val_mean_squared_error: 0.0093\n",
            "Epoch 59/100\n",
            "130/130 [==============================] - 3s 19ms/step - loss: 0.0092 - mean_squared_error: 0.0092 - val_loss: 0.0096 - val_mean_squared_error: 0.0096\n",
            "Epoch 60/100\n",
            "130/130 [==============================] - 3s 20ms/step - loss: 0.0094 - mean_squared_error: 0.0094 - val_loss: 0.0095 - val_mean_squared_error: 0.0095\n",
            "Epoch 61/100\n",
            "130/130 [==============================] - 3s 19ms/step - loss: 0.0094 - mean_squared_error: 0.0094 - val_loss: 0.0098 - val_mean_squared_error: 0.0098\n",
            "Epoch 62/100\n",
            "130/130 [==============================] - 3s 20ms/step - loss: 0.0094 - mean_squared_error: 0.0094 - val_loss: 0.0095 - val_mean_squared_error: 0.0095\n",
            "Epoch 63/100\n",
            "130/130 [==============================] - 2s 19ms/step - loss: 0.0093 - mean_squared_error: 0.0093 - val_loss: 0.0093 - val_mean_squared_error: 0.0093\n",
            "Epoch 64/100\n",
            "130/130 [==============================] - 3s 20ms/step - loss: 0.0094 - mean_squared_error: 0.0094 - val_loss: 0.0103 - val_mean_squared_error: 0.0103\n",
            "Epoch 65/100\n",
            "130/130 [==============================] - 3s 19ms/step - loss: 0.0093 - mean_squared_error: 0.0093 - val_loss: 0.0094 - val_mean_squared_error: 0.0094\n",
            "Epoch 66/100\n",
            "130/130 [==============================] - 3s 20ms/step - loss: 0.0092 - mean_squared_error: 0.0092 - val_loss: 0.0098 - val_mean_squared_error: 0.0098\n",
            "Epoch 67/100\n",
            "130/130 [==============================] - 3s 22ms/step - loss: 0.0093 - mean_squared_error: 0.0093 - val_loss: 0.0097 - val_mean_squared_error: 0.0097\n",
            "Epoch 68/100\n",
            "130/130 [==============================] - 3s 22ms/step - loss: 0.0092 - mean_squared_error: 0.0092 - val_loss: 0.0095 - val_mean_squared_error: 0.0095\n",
            "Epoch 69/100\n",
            "130/130 [==============================] - 3s 22ms/step - loss: 0.0092 - mean_squared_error: 0.0092 - val_loss: 0.0093 - val_mean_squared_error: 0.0093\n",
            "Epoch 70/100\n",
            "130/130 [==============================] - 3s 22ms/step - loss: 0.0089 - mean_squared_error: 0.0089 - val_loss: 0.0096 - val_mean_squared_error: 0.0096\n",
            "Epoch 71/100\n",
            "130/130 [==============================] - 2s 19ms/step - loss: 0.0092 - mean_squared_error: 0.0092 - val_loss: 0.0097 - val_mean_squared_error: 0.0097\n",
            "Epoch 72/100\n",
            "130/130 [==============================] - 2s 19ms/step - loss: 0.0094 - mean_squared_error: 0.0094 - val_loss: 0.0097 - val_mean_squared_error: 0.0097\n",
            "Epoch 73/100\n",
            "130/130 [==============================] - 3s 20ms/step - loss: 0.0091 - mean_squared_error: 0.0091 - val_loss: 0.0094 - val_mean_squared_error: 0.0094\n",
            "Epoch 74/100\n",
            "130/130 [==============================] - 3s 19ms/step - loss: 0.0092 - mean_squared_error: 0.0092 - val_loss: 0.0095 - val_mean_squared_error: 0.0095\n",
            "Epoch 75/100\n",
            "130/130 [==============================] - 3s 19ms/step - loss: 0.0091 - mean_squared_error: 0.0091 - val_loss: 0.0094 - val_mean_squared_error: 0.0094\n",
            "Epoch 76/100\n",
            "130/130 [==============================] - 3s 19ms/step - loss: 0.0091 - mean_squared_error: 0.0091 - val_loss: 0.0099 - val_mean_squared_error: 0.0099\n",
            "Epoch 77/100\n",
            "130/130 [==============================] - 3s 19ms/step - loss: 0.0092 - mean_squared_error: 0.0092 - val_loss: 0.0099 - val_mean_squared_error: 0.0099\n",
            "Epoch 78/100\n",
            "130/130 [==============================] - 2s 19ms/step - loss: 0.0091 - mean_squared_error: 0.0091 - val_loss: 0.0095 - val_mean_squared_error: 0.0095\n",
            "Epoch 79/100\n",
            "130/130 [==============================] - 2s 19ms/step - loss: 0.0090 - mean_squared_error: 0.0090 - val_loss: 0.0094 - val_mean_squared_error: 0.0094\n",
            "Epoch 80/100\n",
            "130/130 [==============================] - 2s 19ms/step - loss: 0.0091 - mean_squared_error: 0.0091 - val_loss: 0.0097 - val_mean_squared_error: 0.0097\n",
            "Epoch 81/100\n",
            "130/130 [==============================] - 3s 20ms/step - loss: 0.0091 - mean_squared_error: 0.0091 - val_loss: 0.0096 - val_mean_squared_error: 0.0096\n",
            "Epoch 82/100\n",
            "130/130 [==============================] - 3s 19ms/step - loss: 0.0089 - mean_squared_error: 0.0089 - val_loss: 0.0094 - val_mean_squared_error: 0.0094\n",
            "Epoch 83/100\n",
            "130/130 [==============================] - 2s 19ms/step - loss: 0.0089 - mean_squared_error: 0.0089 - val_loss: 0.0094 - val_mean_squared_error: 0.0094\n",
            "Epoch 84/100\n",
            "130/130 [==============================] - 2s 19ms/step - loss: 0.0090 - mean_squared_error: 0.0090 - val_loss: 0.0095 - val_mean_squared_error: 0.0095\n",
            "Epoch 85/100\n",
            "130/130 [==============================] - 3s 19ms/step - loss: 0.0089 - mean_squared_error: 0.0089 - val_loss: 0.0092 - val_mean_squared_error: 0.0092\n",
            "Epoch 86/100\n",
            "130/130 [==============================] - 3s 20ms/step - loss: 0.0090 - mean_squared_error: 0.0090 - val_loss: 0.0095 - val_mean_squared_error: 0.0095\n",
            "Epoch 87/100\n",
            "130/130 [==============================] - 3s 20ms/step - loss: 0.0089 - mean_squared_error: 0.0089 - val_loss: 0.0095 - val_mean_squared_error: 0.0095\n",
            "Epoch 88/100\n",
            "130/130 [==============================] - 3s 19ms/step - loss: 0.0089 - mean_squared_error: 0.0089 - val_loss: 0.0092 - val_mean_squared_error: 0.0092\n",
            "Epoch 89/100\n",
            "130/130 [==============================] - 3s 20ms/step - loss: 0.0087 - mean_squared_error: 0.0087 - val_loss: 0.0094 - val_mean_squared_error: 0.0094\n",
            "Epoch 90/100\n",
            "130/130 [==============================] - 3s 19ms/step - loss: 0.0088 - mean_squared_error: 0.0088 - val_loss: 0.0092 - val_mean_squared_error: 0.0092\n",
            "Epoch 91/100\n",
            "130/130 [==============================] - 2s 19ms/step - loss: 0.0088 - mean_squared_error: 0.0088 - val_loss: 0.0095 - val_mean_squared_error: 0.0095\n",
            "Epoch 92/100\n",
            "130/130 [==============================] - 3s 19ms/step - loss: 0.0089 - mean_squared_error: 0.0089 - val_loss: 0.0097 - val_mean_squared_error: 0.0097\n",
            "Epoch 93/100\n",
            "130/130 [==============================] - 3s 20ms/step - loss: 0.0089 - mean_squared_error: 0.0089 - val_loss: 0.0093 - val_mean_squared_error: 0.0093\n",
            "Epoch 94/100\n",
            "130/130 [==============================] - 3s 19ms/step - loss: 0.0087 - mean_squared_error: 0.0087 - val_loss: 0.0094 - val_mean_squared_error: 0.0094\n",
            "Epoch 95/100\n",
            "130/130 [==============================] - 2s 19ms/step - loss: 0.0087 - mean_squared_error: 0.0087 - val_loss: 0.0100 - val_mean_squared_error: 0.0100\n",
            "Epoch 96/100\n",
            "130/130 [==============================] - 3s 19ms/step - loss: 0.0087 - mean_squared_error: 0.0087 - val_loss: 0.0094 - val_mean_squared_error: 0.0094\n",
            "Epoch 97/100\n",
            "130/130 [==============================] - 2s 19ms/step - loss: 0.0086 - mean_squared_error: 0.0086 - val_loss: 0.0093 - val_mean_squared_error: 0.0093\n",
            "Epoch 98/100\n",
            "130/130 [==============================] - 2s 19ms/step - loss: 0.0087 - mean_squared_error: 0.0087 - val_loss: 0.0095 - val_mean_squared_error: 0.0095\n",
            "Epoch 99/100\n",
            "130/130 [==============================] - 3s 19ms/step - loss: 0.0086 - mean_squared_error: 0.0086 - val_loss: 0.0093 - val_mean_squared_error: 0.0093\n",
            "Epoch 100/100\n",
            "130/130 [==============================] - 3s 19ms/step - loss: 0.0085 - mean_squared_error: 0.0085 - val_loss: 0.0093 - val_mean_squared_error: 0.0093\n"
          ],
          "name": "stdout"
        }
      ]
    },
    {
      "cell_type": "code",
      "metadata": {
        "id": "7OYdEXgCChPa",
        "colab": {
          "base_uri": "https://localhost:8080/",
          "height": 295
        },
        "outputId": "634f965e-1b1d-4737-ae92-31e5865c207b"
      },
      "source": [
        "# summarize history for loss\n",
        "plt.plot(history2.history['loss'])\n",
        "plt.plot(history2.history['val_loss'])\n",
        "plt.title('model loss')\n",
        "plt.ylabel('loss')\n",
        "plt.xlabel('epoch')\n",
        "plt.legend(['train', 'validation'], loc='upper left')\n",
        "plt.show()"
      ],
      "execution_count": null,
      "outputs": [
        {
          "output_type": "display_data",
          "data": {
            "image/png": "[encoded data removed]",
            "text/plain": [
              "<Figure size 432x288 with 1 Axes>"
            ]
          },
          "metadata": {
            "tags": [],
            "needs_background": "light"
          }
        }
      ]
    },
    {
      "cell_type": "code",
      "metadata": {
        "id": "dIQ3TjWTChPm"
      },
      "source": [
        "model.save('model_10rnnadam.h5')"
      ],
      "execution_count": null,
      "outputs": []
    },
    {
      "cell_type": "code",
      "metadata": {
        "id": "asNUM-ibChPv"
      },
      "source": [
        "trainPredict2 = model.predict(trainX2)\n",
        "testPredict2 = model.predict(testX2)\n",
        "\n",
        " "
      ],
      "execution_count": null,
      "outputs": []
    },
    {
      "cell_type": "code",
      "metadata": {
        "id": "SkpXY3L-ChP4",
        "colab": {
          "base_uri": "https://localhost:8080/",
          "height": 265
        },
        "outputId": "048a5876-277c-40fd-a0e7-508385382480"
      },
      "source": [
        "plt.plot(trainY2)\n",
        "plt.plot(trainPredict2)\n",
        "plt.show()"
      ],
      "execution_count": null,
      "outputs": [
        {
          "output_type": "display_data",
          "data": {
            "image/png": "[encoded data removed]",
            "text/plain": [
              "<Figure size 432x288 with 1 Axes>"
            ]
          },
          "metadata": {
            "tags": [],
            "needs_background": "light"
          }
        }
      ]
    },
    {
      "cell_type": "code",
      "metadata": {
        "id": "3IhRA-AnChQB",
        "colab": {
          "base_uri": "https://localhost:8080/",
          "height": 265
        },
        "outputId": "fed5cdc5-481b-49f2-b6ce-8f4b19742aae"
      },
      "source": [
        "plt.plot(testY2)\n",
        "plt.plot(testPredict2)\n",
        "plt.show()"
      ],
      "execution_count": null,
      "outputs": [
        {
          "output_type": "display_data",
          "data": {
            "image/png": "[encoded data removed]",
            "text/plain": [
              "<Figure size 432x288 with 1 Axes>"
            ]
          },
          "metadata": {
            "tags": [],
            "needs_background": "light"
          }
        }
      ]
    },
    {
      "cell_type": "code",
      "metadata": {
        "id": "Y_DcyrPpChQJ",
        "colab": {
          "base_uri": "https://localhost:8080/",
          "height": 72
        },
        "outputId": "39046c25-4e9a-4387-c7bd-b962513ed19a"
      },
      "source": [
        "from sklearn.metrics import mean_squared_error\n",
        "from math import sqrt\n",
        "MSE2=mean_squared_error(testY2, testPredict2)\n",
        "print(\"MSE:\",MSE2)\n",
        "\n",
        "RMSE2=sqrt(MSE2)\n",
        "print(\"RMSE:\",RMSE2)\n",
        "\n",
        "from sklearn.metrics import r2_score\n",
        "R2_score2=r2_score(testY2, testPredict2)\n",
        "print(\"R2 score:\", R2_score2)"
      ],
      "execution_count": null,
      "outputs": [
        {
          "output_type": "stream",
          "text": [
            "MSE: 0.00817252\n",
            "RMSE: 0.09040199354188232\n",
            "R2 score: 0.7059321860635098\n"
          ],
          "name": "stdout"
        }
      ]
    },
    {
      "cell_type": "markdown",
      "metadata": {
        "id": "oQgEYnX-ChQY"
      },
      "source": [
        "# Split III"
      ]
    },
    {
      "cell_type": "code",
      "metadata": {
        "id": "f8qwAt6QChQZ",
        "colab": {
          "base_uri": "https://localhost:8080/",
          "height": 54
        },
        "outputId": "b15a6a66-c51e-49bd-df08-7e225363cf1d"
      },
      "source": [
        "# split to train and testing\n",
        "trainX3, testX3 = np.array(x[5196:10392]), np.array(\n",
        "    x[10392:12991])\n",
        "trainY3, testY3 = np.array(y[5196:10392]), np.array(\n",
        "    y[10392:12991])\n",
        "\n",
        "print(len(trainX3))\n",
        "print(len(testX3))"
      ],
      "execution_count": null,
      "outputs": [
        {
          "output_type": "stream",
          "text": [
            "5196\n",
            "2599\n"
          ],
          "name": "stdout"
        }
      ]
    },
    {
      "cell_type": "code",
      "metadata": {
        "id": "0GrmooEZChQi",
        "colab": {
          "base_uri": "https://localhost:8080/",
          "height": 917
        },
        "outputId": "beec4e8c-dedd-4380-d41d-aa308c692c69"
      },
      "source": [
        "# reshape input to be [samples, time steps, features]\n",
        "trainX3 = np.reshape(trainX3, (trainX3.shape[0], 9, 4))\n",
        "testX3 = np.reshape(testX3, (testX3.shape[0], 9, 4))\n",
        "\n",
        "print(trainX3)"
      ],
      "execution_count": null,
      "outputs": [
        {
          "output_type": "stream",
          "text": [
            "[[[0.5588235  0.59876543 0.7354759  0.5091799 ]\n",
            "  [0.52000004 0.62469137 0.57601976 0.5764994 ]\n",
            "  [0.5952941  0.5901234  0.5846724  0.49449205]\n",
            "  ...\n",
            "  [0.70705885 0.74197525 0.69715697 0.78824973]\n",
            "  [0.65411764 0.72839504 0.7935723  0.74541   ]\n",
            "  [0.6517647  0.63209873 0.78615576 0.62913096]]\n",
            "\n",
            " [[0.52000004 0.62469137 0.57601976 0.5764994 ]\n",
            "  [0.5952941  0.5901234  0.5846724  0.49449205]\n",
            "  [0.58117646 0.6283951  0.58343637 0.5924112 ]\n",
            "  ...\n",
            "  [0.65411764 0.72839504 0.7935723  0.74541   ]\n",
            "  [0.6517647  0.63209873 0.78615576 0.62913096]\n",
            "  [0.6811765  0.6061728  0.70333743 0.7368421 ]]\n",
            "\n",
            " [[0.5952941  0.5901234  0.5846724  0.49449205]\n",
            "  [0.58117646 0.6283951  0.58343637 0.5924112 ]\n",
            "  [0.5835294  0.6135802  0.6415327  0.6842105 ]\n",
            "  ...\n",
            "  [0.6517647  0.63209873 0.78615576 0.62913096]\n",
            "  [0.6811765  0.6061728  0.70333743 0.7368421 ]\n",
            "  [0.6447059  0.66419756 0.68355995 0.6560588 ]]\n",
            "\n",
            " ...\n",
            "\n",
            " [[0.5529412  0.5814815  0.57601976 0.5642595 ]\n",
            "  [0.5470588  0.5728395  0.57107544 0.56181145]\n",
            "  [0.5247059  0.5506173  0.54511744 0.54834765]\n",
            "  ...\n",
            "  [0.5294118  0.5518518  0.5562422  0.5410037 ]\n",
            "  [0.5352942  0.5604938  0.5636588  0.54467565]\n",
            "  [0.52352947 0.5493827  0.5488257  0.5324357 ]]\n",
            "\n",
            " [[0.5470588  0.5728395  0.57107544 0.56181145]\n",
            "  [0.5247059  0.5506173  0.54511744 0.54834765]\n",
            "  [0.5247059  0.53950614 0.552534   0.53121173]\n",
            "  ...\n",
            "  [0.5352942  0.5604938  0.5636588  0.54467565]\n",
            "  [0.52352947 0.5493827  0.5488257  0.5324357 ]\n",
            "  [0.5141177  0.53950614 0.53275645 0.5177479 ]]\n",
            "\n",
            " [[0.5247059  0.5506173  0.54511744 0.54834765]\n",
            "  [0.5247059  0.53950614 0.552534   0.53121173]\n",
            "  [0.5211765  0.5419753  0.61718166 0.53365976]\n",
            "  ...\n",
            "  [0.52352947 0.5493827  0.5488257  0.5324357 ]\n",
            "  [0.5141177  0.53950614 0.53275645 0.5177479 ]\n",
            "  [0.5070588  0.53950614 0.54511744 0.5177479 ]]]\n"
          ],
          "name": "stdout"
        }
      ]
    },
    {
      "cell_type": "code",
      "metadata": {
        "id": "llXH9uhJChQq",
        "colab": {
          "base_uri": "https://localhost:8080/",
          "height": 458
        },
        "outputId": "d69c370c-8d64-4a16-a1f9-4ff920c0cb65"
      },
      "source": [
        "from keras import regularizers\n",
        "\n",
        "model = load_model('model_10rnnadam.h5')\n",
        "\n",
        "model.summary()"
      ],
      "execution_count": null,
      "outputs": [
        {
          "output_type": "stream",
          "text": [
            "Model: \"sequential\"\n",
            "_________________________________________________________________\n",
            "Layer (type)                 Output Shape              Param #   \n",
            "=================================================================\n",
            "lstm (LSTM)                  (None, 9, 12)             816       \n",
            "_________________________________________________________________\n",
            "dropout (Dropout)            (None, 9, 12)             0         \n",
            "_________________________________________________________________\n",
            "lstm_1 (LSTM)                (None, 9, 2)              120       \n",
            "_________________________________________________________________\n",
            "lstm_2 (LSTM)                (None, 9, 2)              40        \n",
            "_________________________________________________________________\n",
            "lstm_3 (LSTM)                (None, 9, 2)              40        \n",
            "_________________________________________________________________\n",
            "lstm_4 (LSTM)                (None, 2)                 40        \n",
            "_________________________________________________________________\n",
            "dense (Dense)                (None, 1)                 3         \n",
            "_________________________________________________________________\n",
            "activation (Activation)      (None, 1)                 0         \n",
            "=================================================================\n",
            "Total params: 1,059\n",
            "Trainable params: 1,059\n",
            "Non-trainable params: 0\n",
            "_________________________________________________________________\n"
          ],
          "name": "stdout"
        }
      ]
    },
    {
      "cell_type": "code",
      "metadata": {
        "scrolled": true,
        "id": "qL0hYoNyChQw",
        "colab": {
          "base_uri": "https://localhost:8080/",
          "height": 1000
        },
        "outputId": "c78496e0-db70-47b9-e589-3fa7a3709ce6"
      },
      "source": [
        "print(trainX3.shape, trainY3.shape)\n",
        "history3=model.fit(trainX3, trainY3, epochs=100, batch_size=32, validation_split = 0.2, callbacks=[schedule])"
      ],
      "execution_count": null,
      "outputs": [
        {
          "output_type": "stream",
          "text": [
            "(5196, 9, 4) (5196, 1)\n",
            "Epoch 1/100\n",
            "130/130 [==============================] - 4s 31ms/step - loss: 0.0085 - mean_squared_error: 0.0085 - val_loss: 0.0070 - val_mean_squared_error: 0.0070\n",
            "Epoch 2/100\n",
            "130/130 [==============================] - 2s 19ms/step - loss: 0.0084 - mean_squared_error: 0.0084 - val_loss: 0.0068 - val_mean_squared_error: 0.0068\n",
            "Epoch 3/100\n",
            "130/130 [==============================] - 3s 19ms/step - loss: 0.0082 - mean_squared_error: 0.0082 - val_loss: 0.0068 - val_mean_squared_error: 0.0068\n",
            "Epoch 4/100\n",
            "130/130 [==============================] - 2s 19ms/step - loss: 0.0082 - mean_squared_error: 0.0082 - val_loss: 0.0069 - val_mean_squared_error: 0.0069\n",
            "Epoch 5/100\n",
            "130/130 [==============================] - 2s 19ms/step - loss: 0.0082 - mean_squared_error: 0.0082 - val_loss: 0.0067 - val_mean_squared_error: 0.0067\n",
            "Epoch 6/100\n",
            "130/130 [==============================] - 2s 19ms/step - loss: 0.0080 - mean_squared_error: 0.0080 - val_loss: 0.0067 - val_mean_squared_error: 0.0067\n",
            "Epoch 7/100\n",
            "130/130 [==============================] - 2s 19ms/step - loss: 0.0081 - mean_squared_error: 0.0081 - val_loss: 0.0067 - val_mean_squared_error: 0.0067\n",
            "Epoch 8/100\n",
            "130/130 [==============================] - 2s 19ms/step - loss: 0.0081 - mean_squared_error: 0.0081 - val_loss: 0.0067 - val_mean_squared_error: 0.0067\n",
            "Epoch 9/100\n",
            "130/130 [==============================] - 3s 21ms/step - loss: 0.0081 - mean_squared_error: 0.0081 - val_loss: 0.0067 - val_mean_squared_error: 0.0067\n",
            "Epoch 10/100\n",
            "130/130 [==============================] - 3s 21ms/step - loss: 0.0080 - mean_squared_error: 0.0080 - val_loss: 0.0067 - val_mean_squared_error: 0.0067\n",
            "Epoch 11/100\n",
            "130/130 [==============================] - 3s 20ms/step - loss: 0.0080 - mean_squared_error: 0.0080 - val_loss: 0.0067 - val_mean_squared_error: 0.0067\n",
            "Epoch 12/100\n",
            "130/130 [==============================] - 2s 19ms/step - loss: 0.0079 - mean_squared_error: 0.0079 - val_loss: 0.0068 - val_mean_squared_error: 0.0068\n",
            "Epoch 13/100\n",
            "130/130 [==============================] - 2s 19ms/step - loss: 0.0080 - mean_squared_error: 0.0080 - val_loss: 0.0067 - val_mean_squared_error: 0.0067\n",
            "Epoch 14/100\n",
            "130/130 [==============================] - 2s 19ms/step - loss: 0.0080 - mean_squared_error: 0.0080 - val_loss: 0.0067 - val_mean_squared_error: 0.0067\n",
            "Epoch 15/100\n",
            "130/130 [==============================] - 2s 19ms/step - loss: 0.0079 - mean_squared_error: 0.0079 - val_loss: 0.0067 - val_mean_squared_error: 0.0067\n",
            "Epoch 16/100\n",
            "130/130 [==============================] - 2s 19ms/step - loss: 0.0078 - mean_squared_error: 0.0078 - val_loss: 0.0067 - val_mean_squared_error: 0.0067\n",
            "Epoch 17/100\n",
            "130/130 [==============================] - 2s 19ms/step - loss: 0.0080 - mean_squared_error: 0.0080 - val_loss: 0.0067 - val_mean_squared_error: 0.0067\n",
            "Epoch 18/100\n",
            "130/130 [==============================] - 2s 19ms/step - loss: 0.0079 - mean_squared_error: 0.0079 - val_loss: 0.0067 - val_mean_squared_error: 0.0067\n",
            "Epoch 19/100\n",
            "130/130 [==============================] - 3s 20ms/step - loss: 0.0078 - mean_squared_error: 0.0078 - val_loss: 0.0067 - val_mean_squared_error: 0.0067\n",
            "Epoch 20/100\n",
            "130/130 [==============================] - 3s 20ms/step - loss: 0.0078 - mean_squared_error: 0.0078 - val_loss: 0.0067 - val_mean_squared_error: 0.0067\n",
            "Epoch 21/100\n",
            "130/130 [==============================] - 2s 19ms/step - loss: 0.0079 - mean_squared_error: 0.0079 - val_loss: 0.0067 - val_mean_squared_error: 0.0067\n",
            "Epoch 22/100\n",
            "130/130 [==============================] - 2s 19ms/step - loss: 0.0078 - mean_squared_error: 0.0078 - val_loss: 0.0067 - val_mean_squared_error: 0.0067\n",
            "Epoch 23/100\n",
            "130/130 [==============================] - 3s 20ms/step - loss: 0.0079 - mean_squared_error: 0.0079 - val_loss: 0.0067 - val_mean_squared_error: 0.0067\n",
            "Epoch 24/100\n",
            "130/130 [==============================] - 2s 19ms/step - loss: 0.0078 - mean_squared_error: 0.0078 - val_loss: 0.0067 - val_mean_squared_error: 0.0067\n",
            "Epoch 25/100\n",
            "130/130 [==============================] - 2s 19ms/step - loss: 0.0079 - mean_squared_error: 0.0079 - val_loss: 0.0067 - val_mean_squared_error: 0.0067\n",
            "Epoch 26/100\n",
            "130/130 [==============================] - 2s 19ms/step - loss: 0.0079 - mean_squared_error: 0.0079 - val_loss: 0.0067 - val_mean_squared_error: 0.0067\n",
            "Epoch 27/100\n",
            "130/130 [==============================] - 2s 19ms/step - loss: 0.0079 - mean_squared_error: 0.0079 - val_loss: 0.0067 - val_mean_squared_error: 0.0067\n",
            "Epoch 28/100\n",
            "130/130 [==============================] - 2s 19ms/step - loss: 0.0079 - mean_squared_error: 0.0079 - val_loss: 0.0067 - val_mean_squared_error: 0.0067\n",
            "Epoch 29/100\n",
            "130/130 [==============================] - 2s 19ms/step - loss: 0.0078 - mean_squared_error: 0.0078 - val_loss: 0.0067 - val_mean_squared_error: 0.0067\n",
            "Epoch 30/100\n",
            "130/130 [==============================] - 3s 19ms/step - loss: 0.0078 - mean_squared_error: 0.0078 - val_loss: 0.0067 - val_mean_squared_error: 0.0067\n",
            "Epoch 31/100\n",
            "130/130 [==============================] - 2s 19ms/step - loss: 0.0079 - mean_squared_error: 0.0079 - val_loss: 0.0067 - val_mean_squared_error: 0.0067\n",
            "Epoch 32/100\n",
            "130/130 [==============================] - 2s 19ms/step - loss: 0.0079 - mean_squared_error: 0.0079 - val_loss: 0.0067 - val_mean_squared_error: 0.0067\n",
            "Epoch 33/100\n",
            "130/130 [==============================] - 3s 20ms/step - loss: 0.0079 - mean_squared_error: 0.0079 - val_loss: 0.0067 - val_mean_squared_error: 0.0067\n",
            "Epoch 34/100\n",
            "130/130 [==============================] - 2s 19ms/step - loss: 0.0078 - mean_squared_error: 0.0078 - val_loss: 0.0067 - val_mean_squared_error: 0.0067\n",
            "Epoch 35/100\n",
            "130/130 [==============================] - 2s 19ms/step - loss: 0.0078 - mean_squared_error: 0.0078 - val_loss: 0.0068 - val_mean_squared_error: 0.0068\n",
            "Epoch 36/100\n",
            "130/130 [==============================] - 2s 19ms/step - loss: 0.0078 - mean_squared_error: 0.0078 - val_loss: 0.0067 - val_mean_squared_error: 0.0067\n",
            "Epoch 37/100\n",
            "130/130 [==============================] - 2s 19ms/step - loss: 0.0079 - mean_squared_error: 0.0079 - val_loss: 0.0067 - val_mean_squared_error: 0.0067\n",
            "Epoch 38/100\n",
            "130/130 [==============================] - 3s 19ms/step - loss: 0.0079 - mean_squared_error: 0.0079 - val_loss: 0.0067 - val_mean_squared_error: 0.0067\n",
            "Epoch 39/100\n",
            "130/130 [==============================] - 2s 19ms/step - loss: 0.0078 - mean_squared_error: 0.0078 - val_loss: 0.0070 - val_mean_squared_error: 0.0070\n",
            "Epoch 40/100\n",
            "130/130 [==============================] - 3s 19ms/step - loss: 0.0080 - mean_squared_error: 0.0080 - val_loss: 0.0068 - val_mean_squared_error: 0.0068\n",
            "Epoch 41/100\n",
            "130/130 [==============================] - 3s 19ms/step - loss: 0.0079 - mean_squared_error: 0.0079 - val_loss: 0.0067 - val_mean_squared_error: 0.0067\n",
            "Epoch 42/100\n",
            "130/130 [==============================] - 3s 20ms/step - loss: 0.0080 - mean_squared_error: 0.0080 - val_loss: 0.0068 - val_mean_squared_error: 0.0068\n",
            "Epoch 43/100\n",
            "130/130 [==============================] - 2s 19ms/step - loss: 0.0077 - mean_squared_error: 0.0077 - val_loss: 0.0067 - val_mean_squared_error: 0.0067\n",
            "Epoch 44/100\n",
            "130/130 [==============================] - 2s 19ms/step - loss: 0.0080 - mean_squared_error: 0.0080 - val_loss: 0.0068 - val_mean_squared_error: 0.0068\n",
            "Epoch 45/100\n",
            "130/130 [==============================] - 2s 19ms/step - loss: 0.0080 - mean_squared_error: 0.0080 - val_loss: 0.0070 - val_mean_squared_error: 0.0070\n",
            "Epoch 46/100\n",
            "130/130 [==============================] - 3s 19ms/step - loss: 0.0081 - mean_squared_error: 0.0081 - val_loss: 0.0068 - val_mean_squared_error: 0.0068\n",
            "Epoch 47/100\n",
            "130/130 [==============================] - 3s 20ms/step - loss: 0.0078 - mean_squared_error: 0.0078 - val_loss: 0.0072 - val_mean_squared_error: 0.0072\n",
            "Epoch 48/100\n",
            "130/130 [==============================] - 3s 20ms/step - loss: 0.0080 - mean_squared_error: 0.0080 - val_loss: 0.0068 - val_mean_squared_error: 0.0068\n",
            "Epoch 49/100\n",
            "130/130 [==============================] - 3s 20ms/step - loss: 0.0079 - mean_squared_error: 0.0079 - val_loss: 0.0068 - val_mean_squared_error: 0.0068\n",
            "Epoch 50/100\n",
            "130/130 [==============================] - 3s 19ms/step - loss: 0.0080 - mean_squared_error: 0.0080 - val_loss: 0.0068 - val_mean_squared_error: 0.0068\n",
            "Epoch 51/100\n",
            "130/130 [==============================] - 3s 19ms/step - loss: 0.0081 - mean_squared_error: 0.0081 - val_loss: 0.0068 - val_mean_squared_error: 0.0068\n",
            "Epoch 52/100\n",
            "130/130 [==============================] - 2s 19ms/step - loss: 0.0081 - mean_squared_error: 0.0081 - val_loss: 0.0071 - val_mean_squared_error: 0.0071\n",
            "Epoch 53/100\n",
            "130/130 [==============================] - 2s 19ms/step - loss: 0.0080 - mean_squared_error: 0.0080 - val_loss: 0.0069 - val_mean_squared_error: 0.0069\n",
            "Epoch 54/100\n",
            "130/130 [==============================] - 3s 19ms/step - loss: 0.0079 - mean_squared_error: 0.0079 - val_loss: 0.0068 - val_mean_squared_error: 0.0068\n",
            "Epoch 55/100\n",
            "130/130 [==============================] - 2s 19ms/step - loss: 0.0079 - mean_squared_error: 0.0079 - val_loss: 0.0067 - val_mean_squared_error: 0.0067\n",
            "Epoch 56/100\n",
            "130/130 [==============================] - 2s 19ms/step - loss: 0.0083 - mean_squared_error: 0.0083 - val_loss: 0.0067 - val_mean_squared_error: 0.0067\n",
            "Epoch 57/100\n",
            "130/130 [==============================] - 3s 19ms/step - loss: 0.0080 - mean_squared_error: 0.0080 - val_loss: 0.0071 - val_mean_squared_error: 0.0071\n",
            "Epoch 58/100\n",
            "130/130 [==============================] - 3s 19ms/step - loss: 0.0081 - mean_squared_error: 0.0081 - val_loss: 0.0069 - val_mean_squared_error: 0.0069\n",
            "Epoch 59/100\n",
            "130/130 [==============================] - 2s 19ms/step - loss: 0.0079 - mean_squared_error: 0.0079 - val_loss: 0.0072 - val_mean_squared_error: 0.0072\n",
            "Epoch 60/100\n",
            "130/130 [==============================] - 2s 19ms/step - loss: 0.0081 - mean_squared_error: 0.0081 - val_loss: 0.0070 - val_mean_squared_error: 0.0070\n",
            "Epoch 61/100\n",
            "130/130 [==============================] - 2s 19ms/step - loss: 0.0080 - mean_squared_error: 0.0080 - val_loss: 0.0069 - val_mean_squared_error: 0.0069\n",
            "Epoch 62/100\n",
            "130/130 [==============================] - 2s 19ms/step - loss: 0.0079 - mean_squared_error: 0.0079 - val_loss: 0.0067 - val_mean_squared_error: 0.0067\n",
            "Epoch 63/100\n",
            "130/130 [==============================] - 2s 19ms/step - loss: 0.0080 - mean_squared_error: 0.0080 - val_loss: 0.0070 - val_mean_squared_error: 0.0070\n",
            "Epoch 64/100\n",
            "130/130 [==============================] - 2s 19ms/step - loss: 0.0080 - mean_squared_error: 0.0080 - val_loss: 0.0067 - val_mean_squared_error: 0.0067\n",
            "Epoch 65/100\n",
            "130/130 [==============================] - 2s 19ms/step - loss: 0.0080 - mean_squared_error: 0.0080 - val_loss: 0.0067 - val_mean_squared_error: 0.0067\n",
            "Epoch 66/100\n",
            "130/130 [==============================] - 3s 20ms/step - loss: 0.0079 - mean_squared_error: 0.0079 - val_loss: 0.0069 - val_mean_squared_error: 0.0069\n",
            "Epoch 67/100\n",
            "130/130 [==============================] - 3s 20ms/step - loss: 0.0083 - mean_squared_error: 0.0083 - val_loss: 0.0068 - val_mean_squared_error: 0.0068\n",
            "Epoch 68/100\n",
            "130/130 [==============================] - 2s 19ms/step - loss: 0.0079 - mean_squared_error: 0.0079 - val_loss: 0.0077 - val_mean_squared_error: 0.0077\n",
            "Epoch 69/100\n",
            "130/130 [==============================] - 2s 19ms/step - loss: 0.0080 - mean_squared_error: 0.0080 - val_loss: 0.0072 - val_mean_squared_error: 0.0072\n",
            "Epoch 70/100\n",
            "130/130 [==============================] - 2s 19ms/step - loss: 0.0082 - mean_squared_error: 0.0082 - val_loss: 0.0068 - val_mean_squared_error: 0.0068\n",
            "Epoch 71/100\n",
            "130/130 [==============================] - 3s 20ms/step - loss: 0.0079 - mean_squared_error: 0.0079 - val_loss: 0.0071 - val_mean_squared_error: 0.0071\n",
            "Epoch 72/100\n",
            "130/130 [==============================] - 3s 20ms/step - loss: 0.0077 - mean_squared_error: 0.0077 - val_loss: 0.0070 - val_mean_squared_error: 0.0070\n",
            "Epoch 73/100\n",
            "130/130 [==============================] - 2s 19ms/step - loss: 0.0080 - mean_squared_error: 0.0080 - val_loss: 0.0073 - val_mean_squared_error: 0.0073\n",
            "Epoch 74/100\n",
            "130/130 [==============================] - 3s 19ms/step - loss: 0.0081 - mean_squared_error: 0.0081 - val_loss: 0.0069 - val_mean_squared_error: 0.0069\n",
            "Epoch 75/100\n",
            "130/130 [==============================] - 3s 19ms/step - loss: 0.0080 - mean_squared_error: 0.0080 - val_loss: 0.0070 - val_mean_squared_error: 0.0070\n",
            "Epoch 76/100\n",
            "130/130 [==============================] - 2s 19ms/step - loss: 0.0080 - mean_squared_error: 0.0080 - val_loss: 0.0074 - val_mean_squared_error: 0.0074\n",
            "Epoch 77/100\n",
            "130/130 [==============================] - 2s 19ms/step - loss: 0.0079 - mean_squared_error: 0.0079 - val_loss: 0.0070 - val_mean_squared_error: 0.0070\n",
            "Epoch 78/100\n",
            "130/130 [==============================] - 3s 20ms/step - loss: 0.0081 - mean_squared_error: 0.0081 - val_loss: 0.0076 - val_mean_squared_error: 0.0076\n",
            "Epoch 79/100\n",
            "130/130 [==============================] - 2s 19ms/step - loss: 0.0079 - mean_squared_error: 0.0079 - val_loss: 0.0069 - val_mean_squared_error: 0.0069\n",
            "Epoch 80/100\n",
            "130/130 [==============================] - 3s 19ms/step - loss: 0.0078 - mean_squared_error: 0.0078 - val_loss: 0.0068 - val_mean_squared_error: 0.0068\n",
            "Epoch 81/100\n",
            "130/130 [==============================] - 2s 19ms/step - loss: 0.0078 - mean_squared_error: 0.0078 - val_loss: 0.0069 - val_mean_squared_error: 0.0069\n",
            "Epoch 82/100\n",
            "130/130 [==============================] - 2s 19ms/step - loss: 0.0077 - mean_squared_error: 0.0077 - val_loss: 0.0069 - val_mean_squared_error: 0.0069\n",
            "Epoch 83/100\n",
            "130/130 [==============================] - 2s 18ms/step - loss: 0.0078 - mean_squared_error: 0.0078 - val_loss: 0.0070 - val_mean_squared_error: 0.0070\n",
            "Epoch 84/100\n",
            "130/130 [==============================] - 2s 18ms/step - loss: 0.0079 - mean_squared_error: 0.0079 - val_loss: 0.0070 - val_mean_squared_error: 0.0070\n",
            "Epoch 85/100\n",
            "130/130 [==============================] - 2s 19ms/step - loss: 0.0078 - mean_squared_error: 0.0078 - val_loss: 0.0069 - val_mean_squared_error: 0.0069\n",
            "Epoch 86/100\n",
            "130/130 [==============================] - 3s 21ms/step - loss: 0.0078 - mean_squared_error: 0.0078 - val_loss: 0.0071 - val_mean_squared_error: 0.0071\n",
            "Epoch 87/100\n",
            "130/130 [==============================] - 3s 22ms/step - loss: 0.0077 - mean_squared_error: 0.0077 - val_loss: 0.0078 - val_mean_squared_error: 0.0078\n",
            "Epoch 88/100\n",
            "130/130 [==============================] - 3s 22ms/step - loss: 0.0078 - mean_squared_error: 0.0078 - val_loss: 0.0071 - val_mean_squared_error: 0.0071\n",
            "Epoch 89/100\n",
            "130/130 [==============================] - 3s 22ms/step - loss: 0.0077 - mean_squared_error: 0.0077 - val_loss: 0.0070 - val_mean_squared_error: 0.0070\n",
            "Epoch 90/100\n",
            "130/130 [==============================] - 2s 19ms/step - loss: 0.0076 - mean_squared_error: 0.0076 - val_loss: 0.0069 - val_mean_squared_error: 0.0069\n",
            "Epoch 91/100\n",
            "130/130 [==============================] - 2s 18ms/step - loss: 0.0076 - mean_squared_error: 0.0076 - val_loss: 0.0075 - val_mean_squared_error: 0.0075\n",
            "Epoch 92/100\n",
            "130/130 [==============================] - 2s 19ms/step - loss: 0.0076 - mean_squared_error: 0.0076 - val_loss: 0.0076 - val_mean_squared_error: 0.0076\n",
            "Epoch 93/100\n",
            "130/130 [==============================] - 2s 19ms/step - loss: 0.0075 - mean_squared_error: 0.0075 - val_loss: 0.0071 - val_mean_squared_error: 0.0071\n",
            "Epoch 94/100\n",
            "130/130 [==============================] - 2s 19ms/step - loss: 0.0079 - mean_squared_error: 0.0079 - val_loss: 0.0072 - val_mean_squared_error: 0.0072\n",
            "Epoch 95/100\n",
            "130/130 [==============================] - 3s 19ms/step - loss: 0.0077 - mean_squared_error: 0.0077 - val_loss: 0.0068 - val_mean_squared_error: 0.0068\n",
            "Epoch 96/100\n",
            "130/130 [==============================] - 3s 19ms/step - loss: 0.0075 - mean_squared_error: 0.0075 - val_loss: 0.0068 - val_mean_squared_error: 0.0068\n",
            "Epoch 97/100\n",
            "130/130 [==============================] - 3s 19ms/step - loss: 0.0075 - mean_squared_error: 0.0075 - val_loss: 0.0069 - val_mean_squared_error: 0.0069\n",
            "Epoch 98/100\n",
            "130/130 [==============================] - 3s 20ms/step - loss: 0.0076 - mean_squared_error: 0.0076 - val_loss: 0.0070 - val_mean_squared_error: 0.0070\n",
            "Epoch 99/100\n",
            "130/130 [==============================] - 3s 20ms/step - loss: 0.0076 - mean_squared_error: 0.0076 - val_loss: 0.0072 - val_mean_squared_error: 0.0072\n",
            "Epoch 100/100\n",
            "130/130 [==============================] - 3s 19ms/step - loss: 0.0074 - mean_squared_error: 0.0074 - val_loss: 0.0069 - val_mean_squared_error: 0.0069\n"
          ],
          "name": "stdout"
        }
      ]
    },
    {
      "cell_type": "code",
      "metadata": {
        "id": "lRaLXnkhChQ4",
        "colab": {
          "base_uri": "https://localhost:8080/",
          "height": 295
        },
        "outputId": "7b29fe08-2a04-4dfe-bea9-9b3c6040a8b1"
      },
      "source": [
        "# summarize history for loss\n",
        "plt.plot(history3.history['loss'])\n",
        "plt.plot(history3.history['val_loss'])\n",
        "plt.title('model loss')\n",
        "plt.ylabel('loss')\n",
        "plt.xlabel('epoch')\n",
        "plt.legend(['train', 'validation'], loc='upper left')\n",
        "plt.show()"
      ],
      "execution_count": null,
      "outputs": [
        {
          "output_type": "display_data",
          "data": {
            "image/png": "[encoded data removed]",
            "text/plain": [
              "<Figure size 432x288 with 1 Axes>"
            ]
          },
          "metadata": {
            "tags": [],
            "needs_background": "light"
          }
        }
      ]
    },
    {
      "cell_type": "code",
      "metadata": {
        "id": "8Z48Ku7VChRB"
      },
      "source": [
        "model.save('model_10rnnadam.h5')"
      ],
      "execution_count": null,
      "outputs": []
    },
    {
      "cell_type": "code",
      "metadata": {
        "id": "178glRyVChRK"
      },
      "source": [
        "trainPredict3 = model.predict(trainX3)\n",
        "testPredict3 = model.predict(testX3)\n",
        "\n",
        " "
      ],
      "execution_count": null,
      "outputs": []
    },
    {
      "cell_type": "code",
      "metadata": {
        "id": "09lp81FfChRQ",
        "colab": {
          "base_uri": "https://localhost:8080/",
          "height": 265
        },
        "outputId": "c8e5b5a6-8491-4a28-ab90-cdb45f4e6ca3"
      },
      "source": [
        "plt.plot(trainY3)\n",
        "plt.plot(trainPredict3)\n",
        "plt.show()"
      ],
      "execution_count": null,
      "outputs": [
        {
          "output_type": "display_data",
          "data": {
            "image/png": "[encoded data removed]",
            "text/plain": [
              "<Figure size 432x288 with 1 Axes>"
            ]
          },
          "metadata": {
            "tags": [],
            "needs_background": "light"
          }
        }
      ]
    },
    {
      "cell_type": "code",
      "metadata": {
        "id": "T9Fo1CqqChRY",
        "colab": {
          "base_uri": "https://localhost:8080/",
          "height": 265
        },
        "outputId": "64f44ce2-762a-4205-be65-5115da0ee219"
      },
      "source": [
        "plt.plot(testY3)\n",
        "plt.plot(testPredict3)\n",
        "plt.show()"
      ],
      "execution_count": null,
      "outputs": [
        {
          "output_type": "display_data",
          "data": {
            "image/png": "[encoded data removed]",
            "text/plain": [
              "<Figure size 432x288 with 1 Axes>"
            ]
          },
          "metadata": {
            "tags": [],
            "needs_background": "light"
          }
        }
      ]
    },
    {
      "cell_type": "code",
      "metadata": {
        "id": "xg33cQnlChRf",
        "colab": {
          "base_uri": "https://localhost:8080/",
          "height": 72
        },
        "outputId": "e0dca371-b0b3-4a46-a2c6-0ccba6adfbfb"
      },
      "source": [
        "from sklearn.metrics import mean_squared_error\n",
        "from math import sqrt\n",
        "MSE3=mean_squared_error(testY3, testPredict3)\n",
        "print(\"MSE:\",MSE3)\n",
        "\n",
        "RMSE3=sqrt(MSE3)\n",
        "print(\"RMSE:\",RMSE3)\n",
        "\n",
        "from sklearn.metrics import r2_score\n",
        "R2_score3=r2_score(testY3, testPredict3)\n",
        "print(\"R2 score:\", R2_score3)"
      ],
      "execution_count": null,
      "outputs": [
        {
          "output_type": "stream",
          "text": [
            "MSE: 0.007677922\n",
            "RMSE: 0.08762375263205129\n",
            "R2 score: 0.7310686064969198\n"
          ],
          "name": "stdout"
        }
      ]
    },
    {
      "cell_type": "code",
      "metadata": {
        "id": "nFahLpvuChRl",
        "colab": {
          "base_uri": "https://localhost:8080/",
          "height": 72
        },
        "outputId": "78297828-2cfb-4c36-a7b1-b39fb5def513"
      },
      "source": [
        "AvMSE=(MSE1+MSE2+MSE3)/3\n",
        "AvRMSE=(RMSE1+RMSE2+RMSE3)/3\n",
        "Avr2=(R2_score1+R2_score2+R2_score3)/3\n",
        "\n",
        "print(\"Average MSE:\",AvMSE)\n",
        "print(\"Average RMSE:\",AvRMSE)\n",
        "print(\"Average R2 score:\",Avr2)"
      ],
      "execution_count": null,
      "outputs": [
        {
          "output_type": "stream",
          "text": [
            "Average MSE: 0.008060014496246973\n",
            "Average RMSE: 0.08976413137289552\n",
            "Average R2 score: 0.7130085301882083\n"
          ],
          "name": "stdout"
        }
      ]
    }
  ]
}